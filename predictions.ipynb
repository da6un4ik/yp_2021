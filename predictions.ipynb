{
 "cells": [
  {
   "cell_type": "markdown",
   "metadata": {
    "toc": true
   },
   "source": [
    "<h1>Table of Contents<span class=\"tocSkip\"></span></h1>\n",
    "<div class=\"toc\"><ul class=\"toc-item\"><li><span><a href=\"#Зазгрузка-данных\" data-toc-modified-id=\"Зазгрузка-данных-1\"><span class=\"toc-item-num\">1&nbsp;&nbsp;</span>Зазгрузка данных</a></span><ul class=\"toc-item\"><li><span><a href=\"#Выводы\" data-toc-modified-id=\"Выводы-1.1\"><span class=\"toc-item-num\">1.1&nbsp;&nbsp;</span>Выводы</a></span></li></ul></li><li><span><a href=\"#Исследовательский-анализ-данных-(EDA)\" data-toc-modified-id=\"Исследовательский-анализ-данных-(EDA)-2\"><span class=\"toc-item-num\">2&nbsp;&nbsp;</span>Исследовательский анализ данных (EDA)</a></span><ul class=\"toc-item\"><li><span><a href=\"#проверка-на-отсутствующие-значения\" data-toc-modified-id=\"проверка-на-отсутствующие-значения-2.1\"><span class=\"toc-item-num\">2.1&nbsp;&nbsp;</span>проверка на отсутствующие значения</a></span></li><li><span><a href=\"#Средние-значения-для-тех-кто-ушел-и-тех-кто-остался\" data-toc-modified-id=\"Средние-значения-для-тех-кто-ушел-и-тех-кто-остался-2.2\"><span class=\"toc-item-num\">2.2&nbsp;&nbsp;</span>Средние значения для тех кто ушел и тех кто остался</a></span></li><li><span><a href=\"#Гистограммы-и-распределения\" data-toc-modified-id=\"Гистограммы-и-распределения-2.3\"><span class=\"toc-item-num\">2.3&nbsp;&nbsp;</span>Гистограммы и распределения</a></span></li><li><span><a href=\"#Построим-матрицу-корреляций\" data-toc-modified-id=\"Построим-матрицу-корреляций-2.4\"><span class=\"toc-item-num\">2.4&nbsp;&nbsp;</span>Построим матрицу корреляций</a></span></li></ul></li><li><span><a href=\"#Построение-моделей\" data-toc-modified-id=\"Построение-моделей-3\"><span class=\"toc-item-num\">3&nbsp;&nbsp;</span>Построение моделей</a></span><ul class=\"toc-item\"><li><span><a href=\"#Логистическая-регрессия\" data-toc-modified-id=\"Логистическая-регрессия-3.1\"><span class=\"toc-item-num\">3.1&nbsp;&nbsp;</span>Логистическая регрессия</a></span></li><li><span><a href=\"#Случайный-лес\" data-toc-modified-id=\"Случайный-лес-3.2\"><span class=\"toc-item-num\">3.2&nbsp;&nbsp;</span>Случайный лес</a></span></li></ul></li><li><span><a href=\"#Кластеризация\" data-toc-modified-id=\"Кластеризация-4\"><span class=\"toc-item-num\">4&nbsp;&nbsp;</span>Кластеризация</a></span></li><li><span><a href=\"#Выводы-и-рекомендации-по-работе-с-клиентами:\" data-toc-modified-id=\"Выводы-и-рекомендации-по-работе-с-клиентами:-5\"><span class=\"toc-item-num\">5&nbsp;&nbsp;</span>Выводы и рекомендации по работе с клиентами:</a></span></li></ul></div>"
   ]
  },
  {
   "cell_type": "markdown",
   "metadata": {},
   "source": [
    "# Аналитика сети фитнес-центров #\n",
    "\n",
    "\n",
    "# Описание проекта #\n",
    "Аналитика данных сети фитнес центров «Культурист-датасаентист» для разработки стратегии взаимодействия с клиентами\n",
    "\n",
    "\n",
    "# Цель проекта #\n",
    "Провести анализ и подготовить план действий по удержанию клиентов.\n",
    "\n",
    "А именно:\n",
    "\n",
    "научиться прогнозировать вероятность оттока (на уровне следующего месяца) для каждого клиента;\n",
    "\n",
    "сформировать типичные портреты клиентов: выделить несколько наиболее ярких групп и охарактеризовать их основные свойства;\n",
    "\n",
    "проанализировать основные признаки, наиболее сильно влияющие на отток;\n",
    "\n",
    "сформулировать основные выводы и разработать рекомендации по повышению качества работы с клиентами:\n",
    "\n",
    "1) выделить целевые группы клиентов;\n",
    "\n",
    "2) предложить меры по снижению оттока;\n",
    "\n",
    "3) определить другие особенности взаимодействия с клиентами.\n",
    "\n",
    "**Описание данных**\n",
    "\n",
    "`Churn` — факт оттока в текущем месяце;\n",
    "\n",
    "Текущие поля в датасете:\n",
    "\n",
    "Данные клиента за предыдущий до проверки факта оттока месяц:\n",
    "\n",
    "`gender` — пол;\n",
    "\n",
    "`Near_Location`— проживание или работа в районе, где находится фитнес-центр;\n",
    "\n",
    "`Partner` — сотрудник компании-партнёра клуба (сотрудничество с компаниями, чьи сотрудники могут получать скидки на абонемент — \n",
    "в таком случае фитнес-центр хранит информацию о работодателе клиента);\n",
    "\n",
    "`Promo_friends` — факт первоначальной записи в рамках акции «приведи друга» (использовал промо-код от знакомого при оплате \n",
    "\n",
    "первого абонемента);\n",
    "\n",
    "`Phone` — наличие контактного телефона;\n",
    "\n",
    "`Age`— возраст;\n",
    "\n",
    "`Lifetime` — время с момента первого обращения в фитнес-центр (в месяцах).\n",
    "\n",
    "Информация на основе журнала посещений, покупок и информация о текущем статусе абонемента клиента:\n",
    "\n",
    "`Contract_period` — длительность текущего действующего абонемента (месяц, 3 месяца, 6 месяцев, год);\n",
    "\n",
    "`Month_to_end_contract` — срок до окончания текущего действующего абонемента (в месяцах);\n",
    "\n",
    "`Group_visits` — факт посещения групповых занятий;\n",
    "\n",
    "`Avg_class_frequency_total` — средняя частота посещений в неделю за все время с начала действия абонемента;\n",
    "\n",
    "`Avg_class_frequency_current_month` — средняя частота посещений в неделю за предыдущий месяц;\n",
    "\n",
    "`Avg_additional_charges_total` — суммарная выручка от других услуг фитнес-центра: кафе, спорт-товары, косметический и массажный \n",
    "салон."
   ]
  },
  {
   "cell_type": "code",
   "execution_count": 15,
   "metadata": {},
   "outputs": [],
   "source": [
    "#Загрузка всех необходимых библиотек\n",
    "import pandas as pd\n",
    "import numpy as np\n",
    "import seaborn as sns\n",
    "import matplotlib.pyplot as plt\n",
    "from sklearn.model_selection import train_test_split\n",
    "from sklearn.preprocessing import StandardScaler\n",
    "from sklearn.linear_model import LogisticRegression\n",
    "from sklearn.ensemble import RandomForestClassifier\n",
    "from sklearn.metrics import accuracy_score, precision_score, recall_score, f1_score\n",
    "from scipy.cluster.hierarchy import dendrogram, linkage\n",
    "from sklearn.cluster import KMeans\n",
    "from IPython.display import display"
   ]
  },
  {
   "cell_type": "code",
   "execution_count": 16,
   "metadata": {},
   "outputs": [],
   "source": [
    "\n",
    "#!pip install -U seaborn"
   ]
  },
  {
   "cell_type": "markdown",
   "metadata": {},
   "source": [
    "## Зазгрузка данных ##"
   ]
  },
  {
   "cell_type": "code",
   "execution_count": 17,
   "metadata": {},
   "outputs": [
    {
     "data": {
      "text/html": [
       "<div>\n",
       "<style scoped>\n",
       "    .dataframe tbody tr th:only-of-type {\n",
       "        vertical-align: middle;\n",
       "    }\n",
       "\n",
       "    .dataframe tbody tr th {\n",
       "        vertical-align: top;\n",
       "    }\n",
       "\n",
       "    .dataframe thead th {\n",
       "        text-align: right;\n",
       "    }\n",
       "</style>\n",
       "<table border=\"1\" class=\"dataframe\">\n",
       "  <thead>\n",
       "    <tr style=\"text-align: right;\">\n",
       "      <th></th>\n",
       "      <th>gender</th>\n",
       "      <th>Near_Location</th>\n",
       "      <th>Partner</th>\n",
       "      <th>Promo_friends</th>\n",
       "      <th>Phone</th>\n",
       "      <th>Contract_period</th>\n",
       "      <th>Group_visits</th>\n",
       "      <th>Age</th>\n",
       "      <th>Avg_additional_charges_total</th>\n",
       "      <th>Month_to_end_contract</th>\n",
       "      <th>Lifetime</th>\n",
       "      <th>Avg_class_frequency_total</th>\n",
       "      <th>Avg_class_frequency_current_month</th>\n",
       "      <th>Churn</th>\n",
       "    </tr>\n",
       "  </thead>\n",
       "  <tbody>\n",
       "    <tr>\n",
       "      <td>0</td>\n",
       "      <td>1</td>\n",
       "      <td>1</td>\n",
       "      <td>1</td>\n",
       "      <td>1</td>\n",
       "      <td>0</td>\n",
       "      <td>6</td>\n",
       "      <td>1</td>\n",
       "      <td>29</td>\n",
       "      <td>14.227470</td>\n",
       "      <td>5.0</td>\n",
       "      <td>3</td>\n",
       "      <td>0.020398</td>\n",
       "      <td>0.000000</td>\n",
       "      <td>0</td>\n",
       "    </tr>\n",
       "    <tr>\n",
       "      <td>1</td>\n",
       "      <td>0</td>\n",
       "      <td>1</td>\n",
       "      <td>0</td>\n",
       "      <td>0</td>\n",
       "      <td>1</td>\n",
       "      <td>12</td>\n",
       "      <td>1</td>\n",
       "      <td>31</td>\n",
       "      <td>113.202938</td>\n",
       "      <td>12.0</td>\n",
       "      <td>7</td>\n",
       "      <td>1.922936</td>\n",
       "      <td>1.910244</td>\n",
       "      <td>0</td>\n",
       "    </tr>\n",
       "    <tr>\n",
       "      <td>2</td>\n",
       "      <td>0</td>\n",
       "      <td>1</td>\n",
       "      <td>1</td>\n",
       "      <td>0</td>\n",
       "      <td>1</td>\n",
       "      <td>1</td>\n",
       "      <td>0</td>\n",
       "      <td>28</td>\n",
       "      <td>129.448479</td>\n",
       "      <td>1.0</td>\n",
       "      <td>2</td>\n",
       "      <td>1.859098</td>\n",
       "      <td>1.736502</td>\n",
       "      <td>0</td>\n",
       "    </tr>\n",
       "    <tr>\n",
       "      <td>3</td>\n",
       "      <td>0</td>\n",
       "      <td>1</td>\n",
       "      <td>1</td>\n",
       "      <td>1</td>\n",
       "      <td>1</td>\n",
       "      <td>12</td>\n",
       "      <td>1</td>\n",
       "      <td>33</td>\n",
       "      <td>62.669863</td>\n",
       "      <td>12.0</td>\n",
       "      <td>2</td>\n",
       "      <td>3.205633</td>\n",
       "      <td>3.357215</td>\n",
       "      <td>0</td>\n",
       "    </tr>\n",
       "    <tr>\n",
       "      <td>4</td>\n",
       "      <td>1</td>\n",
       "      <td>1</td>\n",
       "      <td>1</td>\n",
       "      <td>1</td>\n",
       "      <td>1</td>\n",
       "      <td>1</td>\n",
       "      <td>0</td>\n",
       "      <td>26</td>\n",
       "      <td>198.362265</td>\n",
       "      <td>1.0</td>\n",
       "      <td>3</td>\n",
       "      <td>1.113884</td>\n",
       "      <td>1.120078</td>\n",
       "      <td>0</td>\n",
       "    </tr>\n",
       "  </tbody>\n",
       "</table>\n",
       "</div>"
      ],
      "text/plain": [
       "   gender  Near_Location  Partner  Promo_friends  Phone  Contract_period  \\\n",
       "0       1              1        1              1      0                6   \n",
       "1       0              1        0              0      1               12   \n",
       "2       0              1        1              0      1                1   \n",
       "3       0              1        1              1      1               12   \n",
       "4       1              1        1              1      1                1   \n",
       "\n",
       "   Group_visits  Age  Avg_additional_charges_total  Month_to_end_contract  \\\n",
       "0             1   29                     14.227470                    5.0   \n",
       "1             1   31                    113.202938                   12.0   \n",
       "2             0   28                    129.448479                    1.0   \n",
       "3             1   33                     62.669863                   12.0   \n",
       "4             0   26                    198.362265                    1.0   \n",
       "\n",
       "   Lifetime  Avg_class_frequency_total  Avg_class_frequency_current_month  \\\n",
       "0         3                   0.020398                           0.000000   \n",
       "1         7                   1.922936                           1.910244   \n",
       "2         2                   1.859098                           1.736502   \n",
       "3         2                   3.205633                           3.357215   \n",
       "4         3                   1.113884                           1.120078   \n",
       "\n",
       "   Churn  \n",
       "0      0  \n",
       "1      0  \n",
       "2      0  \n",
       "3      0  \n",
       "4      0  "
      ]
     },
     "execution_count": 17,
     "metadata": {},
     "output_type": "execute_result"
    }
   ],
   "source": [
    "df = pd.read_csv('/datasets/gym_churn.csv')\n",
    "#Выведем первые 5 строк таблицы для лучшего понимания состава данных.\n",
    "df.head()"
   ]
  },
  {
   "cell_type": "code",
   "execution_count": 18,
   "metadata": {},
   "outputs": [
    {
     "name": "stdout",
     "output_type": "stream",
     "text": [
      "<class 'pandas.core.frame.DataFrame'>\n",
      "RangeIndex: 4000 entries, 0 to 3999\n",
      "Data columns (total 14 columns):\n",
      "gender                               4000 non-null int64\n",
      "Near_Location                        4000 non-null int64\n",
      "Partner                              4000 non-null int64\n",
      "Promo_friends                        4000 non-null int64\n",
      "Phone                                4000 non-null int64\n",
      "Contract_period                      4000 non-null int64\n",
      "Group_visits                         4000 non-null int64\n",
      "Age                                  4000 non-null int64\n",
      "Avg_additional_charges_total         4000 non-null float64\n",
      "Month_to_end_contract                4000 non-null float64\n",
      "Lifetime                             4000 non-null int64\n",
      "Avg_class_frequency_total            4000 non-null float64\n",
      "Avg_class_frequency_current_month    4000 non-null float64\n",
      "Churn                                4000 non-null int64\n",
      "dtypes: float64(4), int64(10)\n",
      "memory usage: 437.6 KB\n"
     ]
    }
   ],
   "source": [
    "# общая информация по дф\n",
    "df.info()"
   ]
  },
  {
   "cell_type": "code",
   "execution_count": 19,
   "metadata": {},
   "outputs": [
    {
     "data": {
      "text/plain": [
       "0       False\n",
       "1       False\n",
       "2       False\n",
       "3       False\n",
       "4       False\n",
       "        ...  \n",
       "3995    False\n",
       "3996    False\n",
       "3997    False\n",
       "3998    False\n",
       "3999    False\n",
       "Length: 4000, dtype: bool"
      ]
     },
     "execution_count": 19,
     "metadata": {},
     "output_type": "execute_result"
    }
   ],
   "source": [
    "df.duplicated()"
   ]
  },
  {
   "cell_type": "code",
   "execution_count": 20,
   "metadata": {
    "scrolled": true
   },
   "outputs": [
    {
     "name": "stdout",
     "output_type": "stream",
     "text": [
      "False    100.0\n",
      "dtype: float64\n"
     ]
    }
   ],
   "source": [
    "#проверка на дубликаты\n",
    "percentage = df.duplicated(keep=False).value_counts(normalize=True) * 100\n",
    "print (percentage)"
   ]
  },
  {
   "cell_type": "markdown",
   "metadata": {},
   "source": [
    "### Выводы ###\n"
   ]
  },
  {
   "cell_type": "markdown",
   "metadata": {},
   "source": [
    "Рассмотрим внимательно предоставленные данные. В таблице  14 столбцов, 4000 строк.\n",
    "\n",
    "Тип данных следующий:\n",
    "    \n",
    "целочисленный - `gender`, `Near_Location`, `Partner`, `Promo_friends`, `Phone` , `Contract_period`, `Group_visits`, `Age` , `Lifetime` ,`Churn`\n",
    "    \n",
    "вещественный - `Avg_additional_charges_total` , `Month_to_end_contract` , `Avg_class_frequency_total`, `Avg_class_frequency_current_month` \n",
    "\n",
    "Дубликатов в таблице нет\n",
    "    "
   ]
  },
  {
   "cell_type": "markdown",
   "metadata": {},
   "source": [
    "## Исследовательский анализ данных (EDA) ##"
   ]
  },
  {
   "cell_type": "markdown",
   "metadata": {},
   "source": [
    "* Посмотрим, есть ли в датасете отсутствующие признаки, изучим средние значения и стандартные отклонения\n",
    "\n",
    "* Посмотрим на средние значения признаков в двух группах — тех, кто ушел в отток и тех, кто остался\n",
    "\n",
    "* строим столбчатые гистограммы и распределения признаков для тех, кто ушёл (отток) и тех, кто остался (не попали в отток)\n",
    "\n",
    "* строим матрицу корреляций и отобразим её"
   ]
  },
  {
   "cell_type": "markdown",
   "metadata": {},
   "source": [
    "### проверка на отсутствующие значения\n"
   ]
  },
  {
   "cell_type": "code",
   "execution_count": 21,
   "metadata": {},
   "outputs": [
    {
     "data": {
      "text/html": [
       "<div>\n",
       "<style scoped>\n",
       "    .dataframe tbody tr th:only-of-type {\n",
       "        vertical-align: middle;\n",
       "    }\n",
       "\n",
       "    .dataframe tbody tr th {\n",
       "        vertical-align: top;\n",
       "    }\n",
       "\n",
       "    .dataframe thead th {\n",
       "        text-align: right;\n",
       "    }\n",
       "</style>\n",
       "<table border=\"1\" class=\"dataframe\">\n",
       "  <thead>\n",
       "    <tr style=\"text-align: right;\">\n",
       "      <th></th>\n",
       "      <th>gender</th>\n",
       "      <th>Near_Location</th>\n",
       "      <th>Partner</th>\n",
       "      <th>Promo_friends</th>\n",
       "      <th>Phone</th>\n",
       "      <th>Contract_period</th>\n",
       "      <th>Group_visits</th>\n",
       "      <th>Age</th>\n",
       "      <th>Avg_additional_charges_total</th>\n",
       "      <th>Month_to_end_contract</th>\n",
       "      <th>Lifetime</th>\n",
       "      <th>Avg_class_frequency_total</th>\n",
       "      <th>Avg_class_frequency_current_month</th>\n",
       "      <th>Churn</th>\n",
       "    </tr>\n",
       "  </thead>\n",
       "  <tbody>\n",
       "    <tr>\n",
       "      <td>count</td>\n",
       "      <td>4000.000000</td>\n",
       "      <td>4000.000000</td>\n",
       "      <td>4000.000000</td>\n",
       "      <td>4000.000000</td>\n",
       "      <td>4000.000000</td>\n",
       "      <td>4000.000000</td>\n",
       "      <td>4000.000000</td>\n",
       "      <td>4000.000000</td>\n",
       "      <td>4000.000000</td>\n",
       "      <td>4000.000000</td>\n",
       "      <td>4000.000000</td>\n",
       "      <td>4000.000000</td>\n",
       "      <td>4000.000000</td>\n",
       "      <td>4000.000000</td>\n",
       "    </tr>\n",
       "    <tr>\n",
       "      <td>mean</td>\n",
       "      <td>0.510250</td>\n",
       "      <td>0.845250</td>\n",
       "      <td>0.486750</td>\n",
       "      <td>0.308500</td>\n",
       "      <td>0.903500</td>\n",
       "      <td>4.681250</td>\n",
       "      <td>0.412250</td>\n",
       "      <td>29.184250</td>\n",
       "      <td>146.943728</td>\n",
       "      <td>4.322750</td>\n",
       "      <td>3.724750</td>\n",
       "      <td>1.879020</td>\n",
       "      <td>1.767052</td>\n",
       "      <td>0.265250</td>\n",
       "    </tr>\n",
       "    <tr>\n",
       "      <td>std</td>\n",
       "      <td>0.499957</td>\n",
       "      <td>0.361711</td>\n",
       "      <td>0.499887</td>\n",
       "      <td>0.461932</td>\n",
       "      <td>0.295313</td>\n",
       "      <td>4.549706</td>\n",
       "      <td>0.492301</td>\n",
       "      <td>3.258367</td>\n",
       "      <td>96.355602</td>\n",
       "      <td>4.191297</td>\n",
       "      <td>3.749267</td>\n",
       "      <td>0.972245</td>\n",
       "      <td>1.052906</td>\n",
       "      <td>0.441521</td>\n",
       "    </tr>\n",
       "    <tr>\n",
       "      <td>min</td>\n",
       "      <td>0.000000</td>\n",
       "      <td>0.000000</td>\n",
       "      <td>0.000000</td>\n",
       "      <td>0.000000</td>\n",
       "      <td>0.000000</td>\n",
       "      <td>1.000000</td>\n",
       "      <td>0.000000</td>\n",
       "      <td>18.000000</td>\n",
       "      <td>0.148205</td>\n",
       "      <td>1.000000</td>\n",
       "      <td>0.000000</td>\n",
       "      <td>0.000000</td>\n",
       "      <td>0.000000</td>\n",
       "      <td>0.000000</td>\n",
       "    </tr>\n",
       "    <tr>\n",
       "      <td>25%</td>\n",
       "      <td>0.000000</td>\n",
       "      <td>1.000000</td>\n",
       "      <td>0.000000</td>\n",
       "      <td>0.000000</td>\n",
       "      <td>1.000000</td>\n",
       "      <td>1.000000</td>\n",
       "      <td>0.000000</td>\n",
       "      <td>27.000000</td>\n",
       "      <td>68.868830</td>\n",
       "      <td>1.000000</td>\n",
       "      <td>1.000000</td>\n",
       "      <td>1.180875</td>\n",
       "      <td>0.963003</td>\n",
       "      <td>0.000000</td>\n",
       "    </tr>\n",
       "    <tr>\n",
       "      <td>50%</td>\n",
       "      <td>1.000000</td>\n",
       "      <td>1.000000</td>\n",
       "      <td>0.000000</td>\n",
       "      <td>0.000000</td>\n",
       "      <td>1.000000</td>\n",
       "      <td>1.000000</td>\n",
       "      <td>0.000000</td>\n",
       "      <td>29.000000</td>\n",
       "      <td>136.220159</td>\n",
       "      <td>1.000000</td>\n",
       "      <td>3.000000</td>\n",
       "      <td>1.832768</td>\n",
       "      <td>1.719574</td>\n",
       "      <td>0.000000</td>\n",
       "    </tr>\n",
       "    <tr>\n",
       "      <td>75%</td>\n",
       "      <td>1.000000</td>\n",
       "      <td>1.000000</td>\n",
       "      <td>1.000000</td>\n",
       "      <td>1.000000</td>\n",
       "      <td>1.000000</td>\n",
       "      <td>6.000000</td>\n",
       "      <td>1.000000</td>\n",
       "      <td>31.000000</td>\n",
       "      <td>210.949625</td>\n",
       "      <td>6.000000</td>\n",
       "      <td>5.000000</td>\n",
       "      <td>2.536078</td>\n",
       "      <td>2.510336</td>\n",
       "      <td>1.000000</td>\n",
       "    </tr>\n",
       "    <tr>\n",
       "      <td>max</td>\n",
       "      <td>1.000000</td>\n",
       "      <td>1.000000</td>\n",
       "      <td>1.000000</td>\n",
       "      <td>1.000000</td>\n",
       "      <td>1.000000</td>\n",
       "      <td>12.000000</td>\n",
       "      <td>1.000000</td>\n",
       "      <td>41.000000</td>\n",
       "      <td>552.590740</td>\n",
       "      <td>12.000000</td>\n",
       "      <td>31.000000</td>\n",
       "      <td>6.023668</td>\n",
       "      <td>6.146783</td>\n",
       "      <td>1.000000</td>\n",
       "    </tr>\n",
       "  </tbody>\n",
       "</table>\n",
       "</div>"
      ],
      "text/plain": [
       "            gender  Near_Location      Partner  Promo_friends        Phone  \\\n",
       "count  4000.000000    4000.000000  4000.000000    4000.000000  4000.000000   \n",
       "mean      0.510250       0.845250     0.486750       0.308500     0.903500   \n",
       "std       0.499957       0.361711     0.499887       0.461932     0.295313   \n",
       "min       0.000000       0.000000     0.000000       0.000000     0.000000   \n",
       "25%       0.000000       1.000000     0.000000       0.000000     1.000000   \n",
       "50%       1.000000       1.000000     0.000000       0.000000     1.000000   \n",
       "75%       1.000000       1.000000     1.000000       1.000000     1.000000   \n",
       "max       1.000000       1.000000     1.000000       1.000000     1.000000   \n",
       "\n",
       "       Contract_period  Group_visits          Age  \\\n",
       "count      4000.000000   4000.000000  4000.000000   \n",
       "mean          4.681250      0.412250    29.184250   \n",
       "std           4.549706      0.492301     3.258367   \n",
       "min           1.000000      0.000000    18.000000   \n",
       "25%           1.000000      0.000000    27.000000   \n",
       "50%           1.000000      0.000000    29.000000   \n",
       "75%           6.000000      1.000000    31.000000   \n",
       "max          12.000000      1.000000    41.000000   \n",
       "\n",
       "       Avg_additional_charges_total  Month_to_end_contract     Lifetime  \\\n",
       "count                   4000.000000            4000.000000  4000.000000   \n",
       "mean                     146.943728               4.322750     3.724750   \n",
       "std                       96.355602               4.191297     3.749267   \n",
       "min                        0.148205               1.000000     0.000000   \n",
       "25%                       68.868830               1.000000     1.000000   \n",
       "50%                      136.220159               1.000000     3.000000   \n",
       "75%                      210.949625               6.000000     5.000000   \n",
       "max                      552.590740              12.000000    31.000000   \n",
       "\n",
       "       Avg_class_frequency_total  Avg_class_frequency_current_month  \\\n",
       "count                4000.000000                        4000.000000   \n",
       "mean                    1.879020                           1.767052   \n",
       "std                     0.972245                           1.052906   \n",
       "min                     0.000000                           0.000000   \n",
       "25%                     1.180875                           0.963003   \n",
       "50%                     1.832768                           1.719574   \n",
       "75%                     2.536078                           2.510336   \n",
       "max                     6.023668                           6.146783   \n",
       "\n",
       "             Churn  \n",
       "count  4000.000000  \n",
       "mean      0.265250  \n",
       "std       0.441521  \n",
       "min       0.000000  \n",
       "25%       0.000000  \n",
       "50%       0.000000  \n",
       "75%       1.000000  \n",
       "max       1.000000  "
      ]
     },
     "execution_count": 21,
     "metadata": {},
     "output_type": "execute_result"
    }
   ],
   "source": [
    "#воспользуемся методом describe() \n",
    "df.describe()"
   ]
  },
  {
   "cell_type": "markdown",
   "metadata": {},
   "source": [
    "Все признаки присутствуют"
   ]
  },
  {
   "cell_type": "markdown",
   "metadata": {},
   "source": [
    "### Средние значения для тех кто ушел и тех кто остался"
   ]
  },
  {
   "cell_type": "code",
   "execution_count": 22,
   "metadata": {},
   "outputs": [],
   "source": [
    "\n",
    "df_churn_mean = df.groupby('Churn').mean().reset_index()"
   ]
  },
  {
   "cell_type": "code",
   "execution_count": 23,
   "metadata": {},
   "outputs": [
    {
     "data": {
      "text/html": [
       "<div>\n",
       "<style scoped>\n",
       "    .dataframe tbody tr th:only-of-type {\n",
       "        vertical-align: middle;\n",
       "    }\n",
       "\n",
       "    .dataframe tbody tr th {\n",
       "        vertical-align: top;\n",
       "    }\n",
       "\n",
       "    .dataframe thead th {\n",
       "        text-align: right;\n",
       "    }\n",
       "</style>\n",
       "<table border=\"1\" class=\"dataframe\">\n",
       "  <thead>\n",
       "    <tr style=\"text-align: right;\">\n",
       "      <th></th>\n",
       "      <th>Churn</th>\n",
       "      <th>gender</th>\n",
       "      <th>Near_Location</th>\n",
       "      <th>Partner</th>\n",
       "      <th>Promo_friends</th>\n",
       "      <th>Phone</th>\n",
       "      <th>Contract_period</th>\n",
       "      <th>Group_visits</th>\n",
       "      <th>Age</th>\n",
       "      <th>Avg_additional_charges_total</th>\n",
       "      <th>Month_to_end_contract</th>\n",
       "      <th>Lifetime</th>\n",
       "      <th>Avg_class_frequency_total</th>\n",
       "      <th>Avg_class_frequency_current_month</th>\n",
       "    </tr>\n",
       "  </thead>\n",
       "  <tbody>\n",
       "    <tr>\n",
       "      <td>0</td>\n",
       "      <td>0</td>\n",
       "      <td>0.510037</td>\n",
       "      <td>0.873086</td>\n",
       "      <td>0.534195</td>\n",
       "      <td>0.353522</td>\n",
       "      <td>0.903709</td>\n",
       "      <td>5.747193</td>\n",
       "      <td>0.464103</td>\n",
       "      <td>29.976523</td>\n",
       "      <td>158.445715</td>\n",
       "      <td>5.283089</td>\n",
       "      <td>4.711807</td>\n",
       "      <td>2.024876</td>\n",
       "      <td>2.027882</td>\n",
       "    </tr>\n",
       "    <tr>\n",
       "      <td>1</td>\n",
       "      <td>1</td>\n",
       "      <td>0.510839</td>\n",
       "      <td>0.768143</td>\n",
       "      <td>0.355325</td>\n",
       "      <td>0.183789</td>\n",
       "      <td>0.902922</td>\n",
       "      <td>1.728558</td>\n",
       "      <td>0.268615</td>\n",
       "      <td>26.989632</td>\n",
       "      <td>115.082899</td>\n",
       "      <td>1.662582</td>\n",
       "      <td>0.990575</td>\n",
       "      <td>1.474995</td>\n",
       "      <td>1.044546</td>\n",
       "    </tr>\n",
       "  </tbody>\n",
       "</table>\n",
       "</div>"
      ],
      "text/plain": [
       "   Churn    gender  Near_Location   Partner  Promo_friends     Phone  \\\n",
       "0      0  0.510037       0.873086  0.534195       0.353522  0.903709   \n",
       "1      1  0.510839       0.768143  0.355325       0.183789  0.902922   \n",
       "\n",
       "   Contract_period  Group_visits        Age  Avg_additional_charges_total  \\\n",
       "0         5.747193      0.464103  29.976523                    158.445715   \n",
       "1         1.728558      0.268615  26.989632                    115.082899   \n",
       "\n",
       "   Month_to_end_contract  Lifetime  Avg_class_frequency_total  \\\n",
       "0               5.283089  4.711807                   2.024876   \n",
       "1               1.662582  0.990575                   1.474995   \n",
       "\n",
       "   Avg_class_frequency_current_month  \n",
       "0                           2.027882  \n",
       "1                           1.044546  "
      ]
     },
     "execution_count": 23,
     "metadata": {},
     "output_type": "execute_result"
    }
   ],
   "source": [
    "df_churn_mean"
   ]
  },
  {
   "cell_type": "markdown",
   "metadata": {},
   "source": [
    "Предварительно можно сказать, что чаще уходят те кто пришел один, живет дальше,с меньшей посещаемостью"
   ]
  },
  {
   "cell_type": "markdown",
   "metadata": {},
   "source": [
    "### Гистограммы и распределения\n"
   ]
  },
  {
   "cell_type": "code",
   "execution_count": 24,
   "metadata": {},
   "outputs": [
    {
     "name": "stdout",
     "output_type": "stream",
     "text": [
      "Defaulting to user installation because normal site-packages is not writeable\n",
      "Requirement already up-to-date: seaborn in /home/jovyan/.local/lib/python3.7/site-packages (0.11.1)\n",
      "Requirement already satisfied, skipping upgrade: matplotlib>=2.2 in /opt/conda/lib/python3.7/site-packages (from seaborn) (3.1.0)\n",
      "Requirement already satisfied, skipping upgrade: scipy>=1.0 in /opt/conda/lib/python3.7/site-packages (from seaborn) (1.4.1)\n",
      "Requirement already satisfied, skipping upgrade: numpy>=1.15 in /opt/conda/lib/python3.7/site-packages (from seaborn) (1.19.5)\n",
      "Requirement already satisfied, skipping upgrade: pandas>=0.23 in /opt/conda/lib/python3.7/site-packages (from seaborn) (0.25.1)\n",
      "Requirement already satisfied, skipping upgrade: python-dateutil>=2.1 in /opt/conda/lib/python3.7/site-packages (from matplotlib>=2.2->seaborn) (2.8.1)\n",
      "Requirement already satisfied, skipping upgrade: kiwisolver>=1.0.1 in /opt/conda/lib/python3.7/site-packages (from matplotlib>=2.2->seaborn) (1.3.1)\n",
      "Requirement already satisfied, skipping upgrade: pyparsing!=2.0.4,!=2.1.2,!=2.1.6,>=2.0.1 in /opt/conda/lib/python3.7/site-packages (from matplotlib>=2.2->seaborn) (2.4.7)\n",
      "Requirement already satisfied, skipping upgrade: cycler>=0.10 in /opt/conda/lib/python3.7/site-packages (from matplotlib>=2.2->seaborn) (0.10.0)\n",
      "Requirement already satisfied, skipping upgrade: pytz>=2017.2 in /opt/conda/lib/python3.7/site-packages (from pandas>=0.23->seaborn) (2021.1)\n",
      "Requirement already satisfied, skipping upgrade: six>=1.5 in /opt/conda/lib/python3.7/site-packages (from python-dateutil>=2.1->matplotlib>=2.2->seaborn) (1.15.0)\n"
     ]
    }
   ],
   "source": [
    "#Для построения графиков обновила seaborn\n",
    "!pip install -U seaborn"
   ]
  },
  {
   "cell_type": "code",
   "execution_count": 27,
   "metadata": {
    "scrolled": true
   },
   "outputs": [
    {
     "data": {
      "image/png": "[encoded data removed]",
      "text/plain": [
       "<Figure size 432x288 with 1 Axes>"
      ]
     },
     "metadata": {},
     "output_type": "display_data"
    },
    {
     "data": {
      "image/png": "[encoded data removed]",
      "text/plain": [
       "<Figure size 432x288 with 1 Axes>"
      ]
     },
     "metadata": {},
     "output_type": "display_data"
    },
    {
     "data": {
      "image/png": "[encoded data removed]",
      "text/plain": [
       "<Figure size 432x288 with 1 Axes>"
      ]
     },
     "metadata": {},
     "output_type": "display_data"
    },
    {
     "data": {
      "image/png": "[encoded data removed]",
      "text/plain": [
       "<Figure size 432x288 with 1 Axes>"
      ]
     },
     "metadata": {},
     "output_type": "display_data"
    },
    {
     "data": {
      "image/png": "[encoded data removed]",
      "text/plain": [
       "<Figure size 432x288 with 1 Axes>"
      ]
     },
     "metadata": {},
     "output_type": "display_data"
    },
    {
     "data": {
      "image/png": "[encoded data removed]",
      "text/plain": [
       "<Figure size 432x288 with 1 Axes>"
      ]
     },
     "metadata": {},
     "output_type": "display_data"
    },
    {
     "data": {
      "image/png": "[encoded data removed]",
      "text/plain": [
       "<Figure size 432x288 with 1 Axes>"
      ]
     },
     "metadata": {},
     "output_type": "display_data"
    },
    {
     "data": {
      "image/png": "[encoded data removed]",
      "text/plain": [
       "<Figure size 432x288 with 1 Axes>"
      ]
     },
     "metadata": {},
     "output_type": "display_data"
    },
    {
     "data": {
      "image/png": "[encoded data removed]",
      "text/plain": [
       "<Figure size 432x288 with 1 Axes>"
      ]
     },
     "metadata": {},
     "output_type": "display_data"
    },
    {
     "data": {
      "image/png": "[encoded data removed]",
      "text/plain": [
       "<Figure size 432x288 with 1 Axes>"
      ]
     },
     "metadata": {},
     "output_type": "display_data"
    },
    {
     "data": {
      "image/png": "[encoded data removed]",
      "text/plain": [
       "<Figure size 432x288 with 1 Axes>"
      ]
     },
     "metadata": {},
     "output_type": "display_data"
    },
    {
     "data": {
      "image/png": "[encoded data removed]",
      "text/plain": [
       "<Figure size 432x288 with 1 Axes>"
      ]
     },
     "metadata": {},
     "output_type": "display_data"
    },
    {
     "data": {
      "image/png": "[encoded data removed]",
      "text/plain": [
       "<Figure size 432x288 with 1 Axes>"
      ]
     },
     "metadata": {},
     "output_type": "display_data"
    },
    {
     "data": {
      "image/png": "[encoded data removed]",
      "text/plain": [
       "<Figure size 432x288 with 1 Axes>"
      ]
     },
     "metadata": {},
     "output_type": "display_data"
    }
   ],
   "source": [
    "for hist in df.columns:\n",
    "    df.query('Churn ==0')[hist].hist(bins=25, color='blue')\n",
    "    df.query('Churn !=0')[hist].hist(bins=25,color='red',alpha=0.5)\n",
    "    plt.xlabel(hist)\n",
    "    plt.show()"
   ]
  },
  {
   "cell_type": "markdown",
   "metadata": {},
   "source": [
    "### Построим матрицу корреляций"
   ]
  },
  {
   "cell_type": "code",
   "execution_count": 28,
   "metadata": {},
   "outputs": [],
   "source": [
    "corrmat=df.corr()"
   ]
  },
  {
   "cell_type": "code",
   "execution_count": 29,
   "metadata": {},
   "outputs": [
    {
     "data": {
      "text/plain": [
       "Text(0.5, 1, 'Тепловая карта корреляции')"
      ]
     },
     "execution_count": 29,
     "metadata": {},
     "output_type": "execute_result"
    },
    {
     "data": {
      "image/png": "[encoded data removed]",
      "text/plain": [
       "<Figure size 864x720 with 2 Axes>"
      ]
     },
     "metadata": {},
     "output_type": "display_data"
    }
   ],
   "source": [
    "fig, ax = plt.subplots(figsize=(12,10))\n",
    "sns.heatmap(corrmat, annot = True, square=True, ax=ax)\n",
    "plt.title(f'Тепловая карта корреляции', fontsize=15)\n",
    "\n",
    "     "
   ]
  },
  {
   "cell_type": "markdown",
   "metadata": {},
   "source": [
    "Выделяются следующие пары коррелирующих признаков:\n",
    "\n",
    "`Avg_class_frequency_total - Avg_class_frequency_current_month`\n",
    "\n",
    "`Month_to_end_contract-contract_period`"
   ]
  },
  {
   "cell_type": "markdown",
   "metadata": {},
   "source": [
    "## Построение моделей"
   ]
  },
  {
   "cell_type": "code",
   "execution_count": 30,
   "metadata": {},
   "outputs": [],
   "source": [
    "# разделим наши данные на признаки (матрица X) и целевую переменную (y)\n",
    "X = df.drop('Churn', axis = 1)\n",
    "y = df['Churn']\n"
   ]
  },
  {
   "cell_type": "code",
   "execution_count": 31,
   "metadata": {},
   "outputs": [],
   "source": [
    "# разделим модель на обучающую и валидационную выборку\n",
    "X_train, X_test, y_train, y_test = train_test_split(X, y, test_size=0.2, random_state=0)\n"
   ]
  },
  {
   "cell_type": "markdown",
   "metadata": {},
   "source": [
    "### Логистическая регрессия"
   ]
  },
  {
   "cell_type": "code",
   "execution_count": 32,
   "metadata": {},
   "outputs": [],
   "source": [
    "# зададим алгоритм для нашей модели\n",
    "model = LogisticRegression(random_state=0)"
   ]
  },
  {
   "cell_type": "code",
   "execution_count": 33,
   "metadata": {},
   "outputs": [
    {
     "name": "stderr",
     "output_type": "stream",
     "text": [
      "/opt/conda/lib/python3.7/site-packages/sklearn/linear_model/logistic.py:432: FutureWarning: Default solver will be changed to 'lbfgs' in 0.22. Specify a solver to silence this warning.\n",
      "  FutureWarning)\n"
     ]
    },
    {
     "data": {
      "text/plain": [
       "LogisticRegression(C=1.0, class_weight=None, dual=False, fit_intercept=True,\n",
       "                   intercept_scaling=1, l1_ratio=None, max_iter=100,\n",
       "                   multi_class='warn', n_jobs=None, penalty='l2',\n",
       "                   random_state=0, solver='warn', tol=0.0001, verbose=0,\n",
       "                   warm_start=False)"
      ]
     },
     "execution_count": 33,
     "metadata": {},
     "output_type": "execute_result"
    }
   ],
   "source": [
    "# обучим модель\n",
    "model.fit(X_train, y_train)"
   ]
  },
  {
   "cell_type": "code",
   "execution_count": 34,
   "metadata": {},
   "outputs": [],
   "source": [
    "#  прогнозы\n",
    "predictions =model.predict(X_test)\n"
   ]
  },
  {
   "cell_type": "code",
   "execution_count": 35,
   "metadata": {},
   "outputs": [
    {
     "name": "stdout",
     "output_type": "stream",
     "text": [
      "Accuracy: 0.93\n",
      "Precision: 0.86\n",
      "Recall: 0.83\n"
     ]
    }
   ],
   "source": [
    "# выведите все изученные метрики для полученного прогноза\n",
    "print('Accuracy: {:.2f}'.format(accuracy_score(y_test, predictions)))\n",
    "print('Precision: {:.2f}'.format(precision_score(y_test, predictions)))\n",
    "print('Recall: {:.2f}'.format(recall_score(y_test, predictions)))"
   ]
  },
  {
   "cell_type": "markdown",
   "metadata": {},
   "source": [
    "### Случайный лес"
   ]
  },
  {
   "cell_type": "code",
   "execution_count": 36,
   "metadata": {},
   "outputs": [],
   "source": [
    "# зададим алгоритм для новой модели на основе алгоритма случайного леса\n",
    "rf_model = RandomForestClassifier(n_estimators=100, random_state=0)"
   ]
  },
  {
   "cell_type": "code",
   "execution_count": 37,
   "metadata": {},
   "outputs": [
    {
     "data": {
      "text/plain": [
       "RandomForestClassifier(bootstrap=True, class_weight=None, criterion='gini',\n",
       "                       max_depth=None, max_features='auto', max_leaf_nodes=None,\n",
       "                       min_impurity_decrease=0.0, min_impurity_split=None,\n",
       "                       min_samples_leaf=1, min_samples_split=2,\n",
       "                       min_weight_fraction_leaf=0.0, n_estimators=100,\n",
       "                       n_jobs=None, oob_score=False, random_state=0, verbose=0,\n",
       "                       warm_start=False)"
      ]
     },
     "execution_count": 37,
     "metadata": {},
     "output_type": "execute_result"
    }
   ],
   "source": [
    "# обучим модель случайного леса\n",
    "rf_model.fit(X_train, y_train)"
   ]
  },
  {
   "cell_type": "code",
   "execution_count": 38,
   "metadata": {},
   "outputs": [],
   "source": [
    "rf_predictions = rf_model.predict(X_test)"
   ]
  },
  {
   "cell_type": "code",
   "execution_count": 39,
   "metadata": {},
   "outputs": [
    {
     "name": "stdout",
     "output_type": "stream",
     "text": [
      "Accuracy: 0.92\n",
      "Precision: 0.84\n",
      "Recall: 0.82\n"
     ]
    }
   ],
   "source": [
    "# выведите все изученные метрики для полученного прогноза\n",
    "print('Accuracy: {:.2f}'.format(accuracy_score(y_test, rf_predictions)))\n",
    "print('Precision: {:.2f}'.format(precision_score(y_test, rf_predictions)))\n",
    "print('Recall: {:.2f}'.format(recall_score(y_test, rf_predictions)))"
   ]
  },
  {
   "cell_type": "markdown",
   "metadata": {},
   "source": [
    "Метрики модели на основе логистической регрессии оказались выше, то есть логистическая регрессия в нашем случае работает лучше."
   ]
  },
  {
   "cell_type": "markdown",
   "metadata": {},
   "source": [
    "## Кластеризация"
   ]
  },
  {
   "cell_type": "code",
   "execution_count": 40,
   "metadata": {},
   "outputs": [],
   "source": [
    "# стандартизируем данные\n",
    "sc = StandardScaler()\n",
    "X_sc = sc.fit_transform(X)"
   ]
  },
  {
   "cell_type": "code",
   "execution_count": 41,
   "metadata": {},
   "outputs": [],
   "source": [
    "#Построим матрицу расстояний функцией linkage() на стандартизованной матрице признаков\n",
    "linked = linkage(X_sc, method = 'ward') "
   ]
  },
  {
   "cell_type": "code",
   "execution_count": 42,
   "metadata": {},
   "outputs": [
    {
     "data": {
      "image/png": "[encoded data removed]",
      "text/plain": [
       "<Figure size 1080x720 with 1 Axes>"
      ]
     },
     "metadata": {},
     "output_type": "display_data"
    }
   ],
   "source": [
    "#визуализием как дендрограмму:\n",
    "plt.figure(figsize=(15, 10))  \n",
    "dendrogram(linked, orientation='top')\n",
    "plt.show() "
   ]
  },
  {
   "cell_type": "markdown",
   "metadata": {},
   "source": [
    "На основании графика можно предположить количество 4 кластера, но в задании предлагают принять их количество равным пяти"
   ]
  },
  {
   "cell_type": "code",
   "execution_count": 43,
   "metadata": {},
   "outputs": [],
   "source": [
    "# задаём модель k_means с числом кластеров 5\n",
    "km = KMeans(n_clusters=5, random_state=0)"
   ]
  },
  {
   "cell_type": "code",
   "execution_count": 44,
   "metadata": {},
   "outputs": [],
   "source": [
    "# прогнозируем кластеры для наблюдений (алгоритм присваивает им номера от 0 до 2)\n",
    "labels = km.fit_predict(X_sc)\n",
    "\n",
    "# сохраняем метки кластера в поле нашего датасета\n",
    "df['cluster_km'] = labels"
   ]
  },
  {
   "cell_type": "code",
   "execution_count": 45,
   "metadata": {},
   "outputs": [
    {
     "data": {
      "text/html": [
       "<div>\n",
       "<style scoped>\n",
       "    .dataframe tbody tr th:only-of-type {\n",
       "        vertical-align: middle;\n",
       "    }\n",
       "\n",
       "    .dataframe tbody tr th {\n",
       "        vertical-align: top;\n",
       "    }\n",
       "\n",
       "    .dataframe thead th {\n",
       "        text-align: right;\n",
       "    }\n",
       "</style>\n",
       "<table border=\"1\" class=\"dataframe\">\n",
       "  <thead>\n",
       "    <tr style=\"text-align: right;\">\n",
       "      <th></th>\n",
       "      <th>gender</th>\n",
       "      <th>Near_Location</th>\n",
       "      <th>Partner</th>\n",
       "      <th>Promo_friends</th>\n",
       "      <th>Phone</th>\n",
       "      <th>Contract_period</th>\n",
       "      <th>Group_visits</th>\n",
       "      <th>Age</th>\n",
       "      <th>Avg_additional_charges_total</th>\n",
       "      <th>Month_to_end_contract</th>\n",
       "      <th>Lifetime</th>\n",
       "      <th>Avg_class_frequency_total</th>\n",
       "      <th>Avg_class_frequency_current_month</th>\n",
       "      <th>Churn</th>\n",
       "    </tr>\n",
       "    <tr>\n",
       "      <th>cluster_km</th>\n",
       "      <th></th>\n",
       "      <th></th>\n",
       "      <th></th>\n",
       "      <th></th>\n",
       "      <th></th>\n",
       "      <th></th>\n",
       "      <th></th>\n",
       "      <th></th>\n",
       "      <th></th>\n",
       "      <th></th>\n",
       "      <th></th>\n",
       "      <th></th>\n",
       "      <th></th>\n",
       "      <th></th>\n",
       "    </tr>\n",
       "  </thead>\n",
       "  <tbody>\n",
       "    <tr>\n",
       "      <td>0</td>\n",
       "      <td>0.502473</td>\n",
       "      <td>0.959446</td>\n",
       "      <td>0.783383</td>\n",
       "      <td>0.574679</td>\n",
       "      <td>1.000000</td>\n",
       "      <td>10.884273</td>\n",
       "      <td>0.543027</td>\n",
       "      <td>29.980218</td>\n",
       "      <td>160.706969</td>\n",
       "      <td>9.950544</td>\n",
       "      <td>4.738872</td>\n",
       "      <td>1.983305</td>\n",
       "      <td>1.976225</td>\n",
       "      <td>0.027695</td>\n",
       "    </tr>\n",
       "    <tr>\n",
       "      <td>1</td>\n",
       "      <td>0.522078</td>\n",
       "      <td>0.862338</td>\n",
       "      <td>0.470130</td>\n",
       "      <td>0.306494</td>\n",
       "      <td>0.000000</td>\n",
       "      <td>4.787013</td>\n",
       "      <td>0.425974</td>\n",
       "      <td>29.301299</td>\n",
       "      <td>143.957664</td>\n",
       "      <td>4.475325</td>\n",
       "      <td>3.924675</td>\n",
       "      <td>1.847220</td>\n",
       "      <td>1.716369</td>\n",
       "      <td>0.267532</td>\n",
       "    </tr>\n",
       "    <tr>\n",
       "      <td>2</td>\n",
       "      <td>0.495050</td>\n",
       "      <td>0.000000</td>\n",
       "      <td>0.463366</td>\n",
       "      <td>0.079208</td>\n",
       "      <td>1.000000</td>\n",
       "      <td>2.352475</td>\n",
       "      <td>0.215842</td>\n",
       "      <td>28.477228</td>\n",
       "      <td>135.457501</td>\n",
       "      <td>2.198020</td>\n",
       "      <td>2.809901</td>\n",
       "      <td>1.660461</td>\n",
       "      <td>1.477324</td>\n",
       "      <td>0.443564</td>\n",
       "    </tr>\n",
       "    <tr>\n",
       "      <td>3</td>\n",
       "      <td>0.485737</td>\n",
       "      <td>1.000000</td>\n",
       "      <td>0.350238</td>\n",
       "      <td>0.240095</td>\n",
       "      <td>1.000000</td>\n",
       "      <td>1.948494</td>\n",
       "      <td>0.341521</td>\n",
       "      <td>28.167987</td>\n",
       "      <td>131.622204</td>\n",
       "      <td>1.856577</td>\n",
       "      <td>2.440571</td>\n",
       "      <td>1.247634</td>\n",
       "      <td>1.012983</td>\n",
       "      <td>0.514263</td>\n",
       "    </tr>\n",
       "    <tr>\n",
       "      <td>4</td>\n",
       "      <td>0.560335</td>\n",
       "      <td>0.976105</td>\n",
       "      <td>0.356033</td>\n",
       "      <td>0.229391</td>\n",
       "      <td>0.998805</td>\n",
       "      <td>2.665472</td>\n",
       "      <td>0.473118</td>\n",
       "      <td>30.127838</td>\n",
       "      <td>161.724258</td>\n",
       "      <td>2.455197</td>\n",
       "      <td>4.896057</td>\n",
       "      <td>2.851531</td>\n",
       "      <td>2.849473</td>\n",
       "      <td>0.068100</td>\n",
       "    </tr>\n",
       "  </tbody>\n",
       "</table>\n",
       "</div>"
      ],
      "text/plain": [
       "              gender  Near_Location   Partner  Promo_friends     Phone  \\\n",
       "cluster_km                                                               \n",
       "0           0.502473       0.959446  0.783383       0.574679  1.000000   \n",
       "1           0.522078       0.862338  0.470130       0.306494  0.000000   \n",
       "2           0.495050       0.000000  0.463366       0.079208  1.000000   \n",
       "3           0.485737       1.000000  0.350238       0.240095  1.000000   \n",
       "4           0.560335       0.976105  0.356033       0.229391  0.998805   \n",
       "\n",
       "            Contract_period  Group_visits        Age  \\\n",
       "cluster_km                                             \n",
       "0                 10.884273      0.543027  29.980218   \n",
       "1                  4.787013      0.425974  29.301299   \n",
       "2                  2.352475      0.215842  28.477228   \n",
       "3                  1.948494      0.341521  28.167987   \n",
       "4                  2.665472      0.473118  30.127838   \n",
       "\n",
       "            Avg_additional_charges_total  Month_to_end_contract  Lifetime  \\\n",
       "cluster_km                                                                  \n",
       "0                             160.706969               9.950544  4.738872   \n",
       "1                             143.957664               4.475325  3.924675   \n",
       "2                             135.457501               2.198020  2.809901   \n",
       "3                             131.622204               1.856577  2.440571   \n",
       "4                             161.724258               2.455197  4.896057   \n",
       "\n",
       "            Avg_class_frequency_total  Avg_class_frequency_current_month  \\\n",
       "cluster_km                                                                 \n",
       "0                            1.983305                           1.976225   \n",
       "1                            1.847220                           1.716369   \n",
       "2                            1.660461                           1.477324   \n",
       "3                            1.247634                           1.012983   \n",
       "4                            2.851531                           2.849473   \n",
       "\n",
       "               Churn  \n",
       "cluster_km            \n",
       "0           0.027695  \n",
       "1           0.267532  \n",
       "2           0.443564  \n",
       "3           0.514263  \n",
       "4           0.068100  "
      ]
     },
     "metadata": {},
     "output_type": "display_data"
    }
   ],
   "source": [
    "#средние значения признаков для кластеров\n",
    "display(df.groupby('cluster_km').mean())"
   ]
  },
  {
   "cell_type": "markdown",
   "metadata": {},
   "source": [
    "Рассмотрим самую перспективную группу клиентов и ту, где самый большой прогноз по оттоку:\n",
    "\n",
    "**1 группа** ( 0 кластер)\n",
    "\n",
    "* Прогнозируемый отток-- 2,7%\n",
    "\n",
    "* Пол не имеет значения\n",
    "\n",
    "* Живут/работают рядом с центром\n",
    "\n",
    "* Большинство сотрудник компании-партнёра клуба\n",
    "\n",
    "* Больше половины пришли по приглашению\n",
    "\n",
    "* Телефон указан\n",
    "\n",
    "* Срок абонемента около 11 месяцев\n",
    "\n",
    "* Чаще других посещают групповые занятия\n",
    "\n",
    "* Около 30 лет\n",
    "\n",
    "* Часто оплачивают доп.услуги\n",
    "\n",
    "* Еще долго до окончания действующего контракта( 10 месяцев)\n",
    "\n",
    "* Прошло 5 месяцев с момента первого обращения\n",
    "\n",
    "* Среднее количество посещений в месяц 2\n"
   ]
  },
  {
   "cell_type": "markdown",
   "metadata": {},
   "source": [
    "**5 группа** (3 кластер)\n",
    "\n",
    "* Прогнозируемый отток-- 51,5 %\n",
    "\n",
    "* Пол не имеет значения\n",
    "\n",
    "* Живут/работают рядом с центром\n",
    "\n",
    "* У 35% сотрудник компании-партнёра клуба\n",
    "\n",
    "* 24%  пришли по приглашению\n",
    "\n",
    "* Телефон указан\n",
    "\n",
    "* Срок абонемента около 2 месяцев\n",
    "\n",
    "* 34% посещают групповые занятия\n",
    "\n",
    "* Около 28 лет\n",
    "\n",
    "* Реже оплачивают доп.услуги\n",
    "\n",
    "* 2месяца до окончания действующего контракта\n",
    "\n",
    "* Прошло 2,5 месяца с момента первого обращения\n",
    "\n",
    "* Среднее количесвто помещений в месяц( неделю) 1"
   ]
  },
  {
   "cell_type": "code",
   "execution_count": 47,
   "metadata": {},
   "outputs": [
    {
     "data": {
      "text/html": [
       "<div>\n",
       "<style scoped>\n",
       "    .dataframe tbody tr th:only-of-type {\n",
       "        vertical-align: middle;\n",
       "    }\n",
       "\n",
       "    .dataframe tbody tr th {\n",
       "        vertical-align: top;\n",
       "    }\n",
       "\n",
       "    .dataframe thead th {\n",
       "        text-align: right;\n",
       "    }\n",
       "</style>\n",
       "<table border=\"1\" class=\"dataframe\">\n",
       "  <thead>\n",
       "    <tr style=\"text-align: right;\">\n",
       "      <th></th>\n",
       "      <th>gender</th>\n",
       "      <th>Near_Location</th>\n",
       "      <th>Partner</th>\n",
       "      <th>Promo_friends</th>\n",
       "      <th>Phone</th>\n",
       "      <th>Contract_period</th>\n",
       "      <th>Group_visits</th>\n",
       "      <th>Age</th>\n",
       "      <th>Avg_additional_charges_total</th>\n",
       "      <th>Month_to_end_contract</th>\n",
       "      <th>Lifetime</th>\n",
       "      <th>Avg_class_frequency_total</th>\n",
       "      <th>Avg_class_frequency_current_month</th>\n",
       "      <th>Churn</th>\n",
       "      <th>cluster_km</th>\n",
       "    </tr>\n",
       "  </thead>\n",
       "  <tbody>\n",
       "    <tr>\n",
       "      <td>0</td>\n",
       "      <td>1</td>\n",
       "      <td>1</td>\n",
       "      <td>1</td>\n",
       "      <td>1</td>\n",
       "      <td>0</td>\n",
       "      <td>6</td>\n",
       "      <td>1</td>\n",
       "      <td>29</td>\n",
       "      <td>14.227470</td>\n",
       "      <td>5.0</td>\n",
       "      <td>3</td>\n",
       "      <td>0.020398</td>\n",
       "      <td>0.000000</td>\n",
       "      <td>0</td>\n",
       "      <td>1</td>\n",
       "    </tr>\n",
       "    <tr>\n",
       "      <td>1</td>\n",
       "      <td>0</td>\n",
       "      <td>1</td>\n",
       "      <td>0</td>\n",
       "      <td>0</td>\n",
       "      <td>1</td>\n",
       "      <td>12</td>\n",
       "      <td>1</td>\n",
       "      <td>31</td>\n",
       "      <td>113.202938</td>\n",
       "      <td>12.0</td>\n",
       "      <td>7</td>\n",
       "      <td>1.922936</td>\n",
       "      <td>1.910244</td>\n",
       "      <td>0</td>\n",
       "      <td>0</td>\n",
       "    </tr>\n",
       "    <tr>\n",
       "      <td>2</td>\n",
       "      <td>0</td>\n",
       "      <td>1</td>\n",
       "      <td>1</td>\n",
       "      <td>0</td>\n",
       "      <td>1</td>\n",
       "      <td>1</td>\n",
       "      <td>0</td>\n",
       "      <td>28</td>\n",
       "      <td>129.448479</td>\n",
       "      <td>1.0</td>\n",
       "      <td>2</td>\n",
       "      <td>1.859098</td>\n",
       "      <td>1.736502</td>\n",
       "      <td>0</td>\n",
       "      <td>3</td>\n",
       "    </tr>\n",
       "    <tr>\n",
       "      <td>3</td>\n",
       "      <td>0</td>\n",
       "      <td>1</td>\n",
       "      <td>1</td>\n",
       "      <td>1</td>\n",
       "      <td>1</td>\n",
       "      <td>12</td>\n",
       "      <td>1</td>\n",
       "      <td>33</td>\n",
       "      <td>62.669863</td>\n",
       "      <td>12.0</td>\n",
       "      <td>2</td>\n",
       "      <td>3.205633</td>\n",
       "      <td>3.357215</td>\n",
       "      <td>0</td>\n",
       "      <td>0</td>\n",
       "    </tr>\n",
       "    <tr>\n",
       "      <td>4</td>\n",
       "      <td>1</td>\n",
       "      <td>1</td>\n",
       "      <td>1</td>\n",
       "      <td>1</td>\n",
       "      <td>1</td>\n",
       "      <td>1</td>\n",
       "      <td>0</td>\n",
       "      <td>26</td>\n",
       "      <td>198.362265</td>\n",
       "      <td>1.0</td>\n",
       "      <td>3</td>\n",
       "      <td>1.113884</td>\n",
       "      <td>1.120078</td>\n",
       "      <td>0</td>\n",
       "      <td>3</td>\n",
       "    </tr>\n",
       "  </tbody>\n",
       "</table>\n",
       "</div>"
      ],
      "text/plain": [
       "   gender  Near_Location  Partner  Promo_friends  Phone  Contract_period  \\\n",
       "0       1              1        1              1      0                6   \n",
       "1       0              1        0              0      1               12   \n",
       "2       0              1        1              0      1                1   \n",
       "3       0              1        1              1      1               12   \n",
       "4       1              1        1              1      1                1   \n",
       "\n",
       "   Group_visits  Age  Avg_additional_charges_total  Month_to_end_contract  \\\n",
       "0             1   29                     14.227470                    5.0   \n",
       "1             1   31                    113.202938                   12.0   \n",
       "2             0   28                    129.448479                    1.0   \n",
       "3             1   33                     62.669863                   12.0   \n",
       "4             0   26                    198.362265                    1.0   \n",
       "\n",
       "   Lifetime  Avg_class_frequency_total  Avg_class_frequency_current_month  \\\n",
       "0         3                   0.020398                           0.000000   \n",
       "1         7                   1.922936                           1.910244   \n",
       "2         2                   1.859098                           1.736502   \n",
       "3         2                   3.205633                           3.357215   \n",
       "4         3                   1.113884                           1.120078   \n",
       "\n",
       "   Churn  cluster_km  \n",
       "0      0           1  \n",
       "1      0           0  \n",
       "2      0           3  \n",
       "3      0           0  \n",
       "4      0           3  "
      ]
     },
     "execution_count": 47,
     "metadata": {},
     "output_type": "execute_result"
    }
   ],
   "source": [
    "df.head()"
   ]
  },
  {
   "cell_type": "code",
   "execution_count": 48,
   "metadata": {
    "scrolled": true
   },
   "outputs": [
    {
     "data": {
      "image/png": "[encoded data removed]",
      "text/plain": [
       "<Figure size 360x360 with 1 Axes>"
      ]
     },
     "metadata": {},
     "output_type": "display_data"
    },
    {
     "data": {
      "image/png": "[encoded data removed]",
      "text/plain": [
       "<Figure size 360x360 with 1 Axes>"
      ]
     },
     "metadata": {},
     "output_type": "display_data"
    },
    {
     "data": {
      "image/png": "[encoded data removed]",
      "text/plain": [
       "<Figure size 360x360 with 1 Axes>"
      ]
     },
     "metadata": {},
     "output_type": "display_data"
    },
    {
     "data": {
      "image/png": "[encoded data removed]",
      "text/plain": [
       "<Figure size 360x360 with 1 Axes>"
      ]
     },
     "metadata": {},
     "output_type": "display_data"
    },
    {
     "data": {
      "image/png": "[encoded data removed]",
      "text/plain": [
       "<Figure size 360x360 with 1 Axes>"
      ]
     },
     "metadata": {},
     "output_type": "display_data"
    }
   ],
   "source": [
    "#построим графики распределения для кластеров\n",
    "\n",
    "for column in ['gender', 'Near_Location', 'Partner', 'Promo_friends', 'Contract_period']:\n",
    "    plt.figure(figsize=(5, 5))\n",
    "    sns.countplot(x = df[column], hue='cluster_km', data=df)\n",
    "    plt.title(column)\n",
    "    plt.show()"
   ]
  },
  {
   "cell_type": "code",
   "execution_count": 49,
   "metadata": {
    "scrolled": true
   },
   "outputs": [
    {
     "data": {
      "image/png": "[encoded data removed]",
      "text/plain": [
       "<Figure size 360x360 with 1 Axes>"
      ]
     },
     "metadata": {},
     "output_type": "display_data"
    },
    {
     "data": {
      "image/png": "[encoded data removed]",
      "text/plain": [
       "<Figure size 360x360 with 1 Axes>"
      ]
     },
     "metadata": {},
     "output_type": "display_data"
    },
    {
     "data": {
      "image/png": "[encoded data removed]",
      "text/plain": [
       "<Figure size 360x360 with 1 Axes>"
      ]
     },
     "metadata": {},
     "output_type": "display_data"
    },
    {
     "data": {
      "image/png": "[encoded data removed]",
      "text/plain": [
       "<Figure size 360x360 with 1 Axes>"
      ]
     },
     "metadata": {},
     "output_type": "display_data"
    },
    {
     "data": {
      "image/png": "[encoded data removed]",
      "text/plain": [
       "<Figure size 360x360 with 1 Axes>"
      ]
     },
     "metadata": {},
     "output_type": "display_data"
    }
   ],
   "source": [
    "\n",
    "for column in ['Avg_additional_charges_total', 'Month_to_end_contract', 'Lifetime', 'Avg_class_frequency_total','Avg_class_frequency_current_month']:\n",
    "    plt.figure(figsize=(5, 5))\n",
    "    sns.boxplot(x = 'cluster_km', y = df[column], data = df)\n",
    "    plt.title(column)\n",
    "    plt.show()"
   ]
  },
  {
   "cell_type": "markdown",
   "metadata": {},
   "source": [
    "## Выводы и рекомендации по работе с клиентами:\n",
    "\n",
    "**Выводы**\n",
    "\n",
    "Не имеет значения поли есть ли контактные данные клиента. Это никак не влияет на его лояльность клубу\n",
    "\n",
    "Имеется связь между тем уйдет ли клиент и наличием парнерства в клубе. Также более надежны те,кто пришел по приглашению друга\n",
    " \n",
    "Важным фактором является расположение по отношению к работе/дому. Чем ближе клуб, тем меньше вероятность бросить занятия\n",
    "\n",
    "У клиентов со сроком контаркта 12 месяцев больше мотивации остаться\n",
    "\n",
    "Посещаемость важна, но не является самым значимым признаком, важнее сколько денег дополнительно готов потратить клиент\n",
    "\n",
    "Возраст приверженцев клуба немного выше, тех кто легко уходит.\n",
    "\n",
    "**Рекомендации**\n",
    "\n",
    "Увеличить посещаемость групповых занятий , особенно в первые месяцы. Например, предоставить бесплатные занятия в мини-группах\n",
    "\n",
    "\n",
    "Поощрять дружеские визиты, предоставлять гостевые посещения для друзей и за это предлагать бонусы клиентам\n",
    "\n",
    "Делать скидки на дополнительные услуги\n",
    "\n",
    "Предлагать бесплатно продлить абонемент клиентам с высоким средним количество посещений клуба в месяц\n",
    "\n",
    "Проводить акционное снижение цен на более ждинные контракты.\n"
   ]
  }
 ],
 "metadata": {
  "ExecuteTimeLog": [
   {
    "duration": 1611,
    "start_time": "2021-07-06T09:20:46.577Z"
   },
   {
    "duration": 44,
    "start_time": "2021-07-06T09:24:53.579Z"
   },
   {
    "duration": 40,
    "start_time": "2021-07-06T09:26:24.704Z"
   },
   {
    "duration": 70,
    "start_time": "2021-07-06T09:26:48.657Z"
   },
   {
    "duration": 11,
    "start_time": "2021-07-06T09:28:02.284Z"
   },
   {
    "duration": 175,
    "start_time": "2021-07-06T09:31:58.955Z"
   },
   {
    "duration": 495,
    "start_time": "2021-07-06T09:35:53.537Z"
   },
   {
    "duration": 14,
    "start_time": "2021-07-06T09:36:02.046Z"
   },
   {
    "duration": 357,
    "start_time": "2021-07-06T09:39:56.886Z"
   },
   {
    "duration": 311,
    "start_time": "2021-07-06T09:40:05.645Z"
   },
   {
    "duration": 289,
    "start_time": "2021-07-06T09:40:56.464Z"
   },
   {
    "duration": 37,
    "start_time": "2021-07-06T09:42:17.574Z"
   },
   {
    "duration": 112,
    "start_time": "2021-07-06T09:52:38.798Z"
   },
   {
    "duration": 70,
    "start_time": "2021-07-06T09:53:46.875Z"
   },
   {
    "duration": 372,
    "start_time": "2021-07-06T10:03:14.333Z"
   },
   {
    "duration": 7,
    "start_time": "2021-07-06T10:03:25.322Z"
   },
   {
    "duration": 303,
    "start_time": "2021-07-06T10:03:31.628Z"
   },
   {
    "duration": 26,
    "start_time": "2021-07-06T10:03:37.580Z"
   },
   {
    "duration": 68,
    "start_time": "2021-07-06T10:03:47.532Z"
   },
   {
    "duration": 314,
    "start_time": "2021-07-06T10:04:48.870Z"
   },
   {
    "duration": 9,
    "start_time": "2021-07-06T10:04:52.623Z"
   },
   {
    "duration": 316,
    "start_time": "2021-07-06T10:04:53.233Z"
   },
   {
    "duration": 308,
    "start_time": "2021-07-06T10:05:21.386Z"
   },
   {
    "duration": 9,
    "start_time": "2021-07-06T10:05:27.228Z"
   },
   {
    "duration": 21,
    "start_time": "2021-07-06T10:05:27.841Z"
   },
   {
    "duration": 72,
    "start_time": "2021-07-06T10:05:35.078Z"
   },
   {
    "duration": 367,
    "start_time": "2021-07-06T10:05:45.733Z"
   },
   {
    "duration": 1319,
    "start_time": "2021-07-06T10:05:52.399Z"
   },
   {
    "duration": 64,
    "start_time": "2021-07-06T10:05:57.094Z"
   },
   {
    "duration": 9,
    "start_time": "2021-07-06T10:06:05.609Z"
   },
   {
    "duration": 71,
    "start_time": "2021-07-06T10:06:06.353Z"
   },
   {
    "duration": 19,
    "start_time": "2021-07-06T10:06:18.137Z"
   },
   {
    "duration": 9,
    "start_time": "2021-07-06T10:06:21.636Z"
   },
   {
    "duration": 19,
    "start_time": "2021-07-06T10:06:22.280Z"
   },
   {
    "duration": 132351,
    "start_time": "2021-07-06T10:12:51.712Z"
   },
   {
    "duration": 319,
    "start_time": "2021-07-06T10:18:38.000Z"
   },
   {
    "duration": 113,
    "start_time": "2021-07-06T10:18:52.153Z"
   },
   {
    "duration": 408,
    "start_time": "2021-07-06T10:20:22.940Z"
   },
   {
    "duration": 344,
    "start_time": "2021-07-06T10:21:10.886Z"
   },
   {
    "duration": 3027,
    "start_time": "2021-07-06T10:21:29.643Z"
   },
   {
    "duration": 342,
    "start_time": "2021-07-06T10:22:27.768Z"
   },
   {
    "duration": 356,
    "start_time": "2021-07-06T10:32:02.118Z"
   },
   {
    "duration": 357,
    "start_time": "2021-07-06T10:32:23.512Z"
   },
   {
    "duration": 326,
    "start_time": "2021-07-06T10:33:11.330Z"
   },
   {
    "duration": 319,
    "start_time": "2021-07-06T10:36:11.758Z"
   },
   {
    "duration": 350,
    "start_time": "2021-07-06T10:36:55.422Z"
   },
   {
    "duration": 20,
    "start_time": "2021-07-06T10:36:56.170Z"
   },
   {
    "duration": 1522,
    "start_time": "2021-07-06T10:37:12.325Z"
   },
   {
    "duration": 43,
    "start_time": "2021-07-06T10:37:13.850Z"
   },
   {
    "duration": 10,
    "start_time": "2021-07-06T10:37:13.896Z"
   },
   {
    "duration": 18,
    "start_time": "2021-07-06T10:37:13.909Z"
   },
   {
    "duration": 15,
    "start_time": "2021-07-06T10:37:13.929Z"
   },
   {
    "duration": 100,
    "start_time": "2021-07-06T10:37:13.947Z"
   },
   {
    "duration": 9,
    "start_time": "2021-07-06T10:37:14.050Z"
   },
   {
    "duration": 42,
    "start_time": "2021-07-06T10:37:14.062Z"
   },
   {
    "duration": 4,
    "start_time": "2021-07-06T10:37:14.107Z"
   },
   {
    "duration": 5,
    "start_time": "2021-07-06T10:40:28.942Z"
   },
   {
    "duration": 27,
    "start_time": "2021-07-06T10:40:58.079Z"
   },
   {
    "duration": 467,
    "start_time": "2021-07-06T10:41:11.099Z"
   },
   {
    "duration": 19,
    "start_time": "2021-07-06T10:41:12.847Z"
   },
   {
    "duration": 304,
    "start_time": "2021-07-06T10:50:59.479Z"
   },
   {
    "duration": 315,
    "start_time": "2021-07-06T10:51:44.296Z"
   },
   {
    "duration": 425,
    "start_time": "2021-07-06T10:51:57.150Z"
   },
   {
    "duration": 644,
    "start_time": "2021-07-06T10:52:03.338Z"
   },
   {
    "duration": 360,
    "start_time": "2021-07-06T10:52:49.205Z"
   },
   {
    "duration": 662,
    "start_time": "2021-07-06T10:52:58.119Z"
   },
   {
    "duration": 5275,
    "start_time": "2021-07-06T10:55:37.074Z"
   },
   {
    "duration": 1631,
    "start_time": "2021-07-06T10:55:49.013Z"
   },
   {
    "duration": 3929,
    "start_time": "2021-07-06T10:55:50.647Z"
   },
   {
    "duration": 47,
    "start_time": "2021-07-06T10:55:54.580Z"
   },
   {
    "duration": 10,
    "start_time": "2021-07-06T10:55:54.630Z"
   },
   {
    "duration": 17,
    "start_time": "2021-07-06T10:55:54.643Z"
   },
   {
    "duration": 27,
    "start_time": "2021-07-06T10:55:54.663Z"
   },
   {
    "duration": 94,
    "start_time": "2021-07-06T10:55:54.693Z"
   },
   {
    "duration": 10,
    "start_time": "2021-07-06T10:55:54.790Z"
   },
   {
    "duration": 22,
    "start_time": "2021-07-06T10:55:54.803Z"
   },
   {
    "duration": 1045,
    "start_time": "2021-07-06T10:55:54.828Z"
   },
   {
    "duration": 604,
    "start_time": "2021-07-06T10:56:18.850Z"
   },
   {
    "duration": 1202,
    "start_time": "2021-07-06T10:56:48.932Z"
   },
   {
    "duration": 11,
    "start_time": "2021-07-06T10:58:56.413Z"
   },
   {
    "duration": 31,
    "start_time": "2021-07-06T10:59:03.713Z"
   },
   {
    "duration": 11,
    "start_time": "2021-07-06T10:59:17.198Z"
   },
   {
    "duration": 32,
    "start_time": "2021-07-06T10:59:18.055Z"
   },
   {
    "duration": 14,
    "start_time": "2021-07-06T10:59:37.347Z"
   },
   {
    "duration": 29,
    "start_time": "2021-07-06T10:59:38.481Z"
   },
   {
    "duration": 591,
    "start_time": "2021-07-06T11:01:35.771Z"
   },
   {
    "duration": 355,
    "start_time": "2021-07-06T11:01:50.897Z"
   },
   {
    "duration": 885,
    "start_time": "2021-07-06T11:03:14.673Z"
   },
   {
    "duration": 6,
    "start_time": "2021-07-06T11:03:24.882Z"
   },
   {
    "duration": 20367,
    "start_time": "2021-07-06T11:03:57.896Z"
   },
   {
    "duration": 6,
    "start_time": "2021-07-06T11:05:45.679Z"
   },
   {
    "duration": 20948,
    "start_time": "2021-07-06T11:05:46.542Z"
   },
   {
    "duration": 9,
    "start_time": "2021-07-06T11:19:17.906Z"
   },
   {
    "duration": 8,
    "start_time": "2021-07-06T11:19:23.689Z"
   },
   {
    "duration": 1786,
    "start_time": "2021-07-06T11:19:34.655Z"
   },
   {
    "duration": 2356,
    "start_time": "2021-07-06T11:20:29.869Z"
   },
   {
    "duration": 2126,
    "start_time": "2021-07-06T11:21:28.402Z"
   },
   {
    "duration": 2393,
    "start_time": "2021-07-06T11:21:35.048Z"
   },
   {
    "duration": 2436,
    "start_time": "2021-07-06T11:23:35.562Z"
   },
   {
    "duration": 2326,
    "start_time": "2021-07-06T11:23:55.097Z"
   },
   {
    "duration": 8,
    "start_time": "2021-07-06T12:19:19.954Z"
   },
   {
    "duration": 1708,
    "start_time": "2021-07-06T12:19:20.956Z"
   },
   {
    "duration": 2321,
    "start_time": "2021-07-06T12:19:54.527Z"
   },
   {
    "duration": 1879,
    "start_time": "2021-07-06T12:20:54.436Z"
   },
   {
    "duration": 2312,
    "start_time": "2021-07-06T12:21:15.303Z"
   },
   {
    "duration": 1867,
    "start_time": "2021-07-06T12:22:18.018Z"
   },
   {
    "duration": 1920,
    "start_time": "2021-07-06T12:22:26.473Z"
   },
   {
    "duration": 6,
    "start_time": "2021-07-06T12:30:10.734Z"
   },
   {
    "duration": 2239,
    "start_time": "2021-07-06T12:30:11.505Z"
   },
   {
    "duration": 6,
    "start_time": "2021-07-06T12:37:49.261Z"
   },
   {
    "duration": 2017,
    "start_time": "2021-07-06T12:37:50.679Z"
   },
   {
    "duration": 320,
    "start_time": "2021-07-06T16:15:38.849Z"
   },
   {
    "duration": 5,
    "start_time": "2021-07-06T16:16:33.206Z"
   },
   {
    "duration": 8,
    "start_time": "2021-07-06T16:17:07.951Z"
   },
   {
    "duration": 4,
    "start_time": "2021-07-06T16:17:29.380Z"
   },
   {
    "duration": 49,
    "start_time": "2021-07-06T16:17:38.414Z"
   },
   {
    "duration": 14,
    "start_time": "2021-07-06T16:18:11.174Z"
   },
   {
    "duration": 10,
    "start_time": "2021-07-06T16:18:17.786Z"
   },
   {
    "duration": 12,
    "start_time": "2021-07-06T16:19:08.587Z"
   },
   {
    "duration": 3,
    "start_time": "2021-07-06T16:19:35.331Z"
   },
   {
    "duration": 48,
    "start_time": "2021-07-06T16:19:35.886Z"
   },
   {
    "duration": 14,
    "start_time": "2021-07-06T16:19:36.482Z"
   },
   {
    "duration": 11,
    "start_time": "2021-07-06T16:19:36.953Z"
   },
   {
    "duration": 4,
    "start_time": "2021-07-06T16:20:54.680Z"
   },
   {
    "duration": 425,
    "start_time": "2021-07-06T16:21:05.393Z"
   },
   {
    "duration": 452,
    "start_time": "2021-07-06T16:21:10.739Z"
   },
   {
    "duration": 31,
    "start_time": "2021-07-06T16:21:27.323Z"
   },
   {
    "duration": 11,
    "start_time": "2021-07-06T16:22:06.260Z"
   },
   {
    "duration": 9,
    "start_time": "2021-07-06T16:27:27.243Z"
   },
   {
    "duration": 3,
    "start_time": "2021-07-06T16:29:30.563Z"
   },
   {
    "duration": 821,
    "start_time": "2021-07-06T16:30:16.592Z"
   },
   {
    "duration": 147252,
    "start_time": "2021-07-06T16:30:49.609Z"
   },
   {
    "duration": 145773,
    "start_time": "2021-07-06T16:34:41.246Z"
   },
   {
    "duration": 4,
    "start_time": "2021-07-06T16:42:17.379Z"
   },
   {
    "duration": 1471,
    "start_time": "2021-07-06T16:44:04.315Z"
   },
   {
    "duration": 19,
    "start_time": "2021-07-06T16:44:59.661Z"
   },
   {
    "duration": 4,
    "start_time": "2021-07-06T16:54:13.485Z"
   },
   {
    "duration": 1834,
    "start_time": "2021-07-06T16:54:14.162Z"
   },
   {
    "duration": 22,
    "start_time": "2021-07-06T16:54:15.999Z"
   },
   {
    "duration": 4,
    "start_time": "2021-07-06T16:55:08.730Z"
   },
   {
    "duration": 1544,
    "start_time": "2021-07-06T16:55:09.447Z"
   },
   {
    "duration": 107,
    "start_time": "2021-07-06T16:55:10.995Z"
   },
   {
    "duration": 3,
    "start_time": "2021-07-06T16:55:19.706Z"
   },
   {
    "duration": 1698,
    "start_time": "2021-07-06T16:55:20.302Z"
   },
   {
    "duration": 18,
    "start_time": "2021-07-06T16:55:22.003Z"
   },
   {
    "duration": 9,
    "start_time": "2021-07-06T17:00:04.306Z"
   },
   {
    "duration": 862,
    "start_time": "2021-07-06T17:00:06.232Z"
   },
   {
    "duration": 152383,
    "start_time": "2021-07-06T17:00:07.097Z"
   },
   {
    "duration": 349,
    "start_time": "2021-07-06T17:05:31.380Z"
   },
   {
    "duration": 8,
    "start_time": "2021-07-06T17:05:44.664Z"
   },
   {
    "duration": 844,
    "start_time": "2021-07-06T17:05:45.997Z"
   },
   {
    "duration": 152855,
    "start_time": "2021-07-06T17:05:47.235Z"
   },
   {
    "duration": 4,
    "start_time": "2021-07-06T17:09:15.307Z"
   },
   {
    "duration": 1208,
    "start_time": "2021-07-06T17:09:15.793Z"
   },
   {
    "duration": 95,
    "start_time": "2021-07-06T17:09:17.005Z"
   },
   {
    "duration": 23,
    "start_time": "2021-07-06T17:27:34.394Z"
   },
   {
    "duration": 8205,
    "start_time": "2021-07-06T17:30:48.070Z"
   },
   {
    "duration": 1792,
    "start_time": "2021-07-06T17:31:15.160Z"
   },
   {
    "duration": 1801,
    "start_time": "2021-07-06T17:36:31.484Z"
   },
   {
    "duration": 3993,
    "start_time": "2021-07-06T17:36:33.288Z"
   },
   {
    "duration": 52,
    "start_time": "2021-07-06T17:36:37.285Z"
   },
   {
    "duration": 12,
    "start_time": "2021-07-06T17:36:37.341Z"
   },
   {
    "duration": 33,
    "start_time": "2021-07-06T17:36:37.357Z"
   },
   {
    "duration": 18,
    "start_time": "2021-07-06T17:36:37.393Z"
   },
   {
    "duration": 109,
    "start_time": "2021-07-06T17:36:37.414Z"
   },
   {
    "duration": 10,
    "start_time": "2021-07-06T17:36:37.526Z"
   },
   {
    "duration": 44,
    "start_time": "2021-07-06T17:36:37.541Z"
   },
   {
    "duration": 6,
    "start_time": "2021-07-06T17:36:37.588Z"
   },
   {
    "duration": 20514,
    "start_time": "2021-07-06T17:36:37.597Z"
   },
   {
    "duration": 7,
    "start_time": "2021-07-06T17:36:58.113Z"
   },
   {
    "duration": 1958,
    "start_time": "2021-07-06T17:36:58.123Z"
   },
   {
    "duration": 5,
    "start_time": "2021-07-06T17:37:00.086Z"
   },
   {
    "duration": 15,
    "start_time": "2021-07-06T17:37:00.094Z"
   },
   {
    "duration": 18,
    "start_time": "2021-07-06T17:37:00.111Z"
   },
   {
    "duration": 61,
    "start_time": "2021-07-06T17:37:00.131Z"
   },
   {
    "duration": 92,
    "start_time": "2021-07-06T17:37:00.194Z"
   },
   {
    "duration": 99,
    "start_time": "2021-07-06T17:37:00.290Z"
   },
   {
    "duration": 4,
    "start_time": "2021-07-06T17:37:00.392Z"
   },
   {
    "duration": 471,
    "start_time": "2021-07-06T17:37:00.398Z"
   },
   {
    "duration": 37,
    "start_time": "2021-07-06T17:37:00.871Z"
   },
   {
    "duration": 11,
    "start_time": "2021-07-06T17:37:00.911Z"
   },
   {
    "duration": 13,
    "start_time": "2021-07-06T17:37:00.924Z"
   },
   {
    "duration": 940,
    "start_time": "2021-07-06T17:37:00.939Z"
   },
   {
    "duration": 147052,
    "start_time": "2021-07-06T17:37:01.882Z"
   },
   {
    "duration": 4,
    "start_time": "2021-07-06T17:39:28.938Z"
   },
   {
    "duration": 1659,
    "start_time": "2021-07-06T17:39:28.944Z"
   },
   {
    "duration": 19,
    "start_time": "2021-07-06T17:39:30.606Z"
   },
   {
    "duration": 19,
    "start_time": "2021-07-06T17:39:30.627Z"
   },
   {
    "duration": 1776,
    "start_time": "2021-07-06T17:39:30.649Z"
   },
   {
    "duration": 481,
    "start_time": "2021-07-06T17:39:32.428Z"
   },
   {
    "duration": 2194,
    "start_time": "2021-07-06T17:39:46.183Z"
   },
   {
    "duration": 1879,
    "start_time": "2021-07-06T17:54:06.482Z"
   },
   {
    "duration": 4324,
    "start_time": "2021-07-06T17:54:08.363Z"
   },
   {
    "duration": 49,
    "start_time": "2021-07-06T17:54:12.690Z"
   },
   {
    "duration": 10,
    "start_time": "2021-07-06T17:54:12.742Z"
   },
   {
    "duration": 32,
    "start_time": "2021-07-06T17:54:12.755Z"
   },
   {
    "duration": 15,
    "start_time": "2021-07-06T17:54:12.790Z"
   },
   {
    "duration": 90,
    "start_time": "2021-07-06T17:54:12.808Z"
   },
   {
    "duration": 9,
    "start_time": "2021-07-06T17:54:12.903Z"
   },
   {
    "duration": 19,
    "start_time": "2021-07-06T17:54:12.916Z"
   },
   {
    "duration": 8,
    "start_time": "2021-07-06T17:54:12.938Z"
   },
   {
    "duration": 20553,
    "start_time": "2021-07-06T17:54:12.986Z"
   },
   {
    "duration": 7,
    "start_time": "2021-07-06T17:54:33.542Z"
   },
   {
    "duration": 2001,
    "start_time": "2021-07-06T17:54:33.552Z"
   },
   {
    "duration": 5,
    "start_time": "2021-07-06T17:54:35.555Z"
   },
   {
    "duration": 38,
    "start_time": "2021-07-06T17:54:35.563Z"
   },
   {
    "duration": 3,
    "start_time": "2021-07-06T17:54:35.604Z"
   },
   {
    "duration": 51,
    "start_time": "2021-07-06T17:54:35.610Z"
   },
   {
    "duration": 29,
    "start_time": "2021-07-06T17:54:35.664Z"
   },
   {
    "duration": 96,
    "start_time": "2021-07-06T17:54:35.695Z"
   },
   {
    "duration": 7,
    "start_time": "2021-07-06T17:54:35.796Z"
   },
   {
    "duration": 546,
    "start_time": "2021-07-06T17:54:35.806Z"
   },
   {
    "duration": 41,
    "start_time": "2021-07-06T17:54:36.355Z"
   },
   {
    "duration": 13,
    "start_time": "2021-07-06T17:54:36.401Z"
   },
   {
    "duration": 8,
    "start_time": "2021-07-06T17:54:36.417Z"
   },
   {
    "duration": 883,
    "start_time": "2021-07-06T17:54:36.428Z"
   },
   {
    "duration": 149516,
    "start_time": "2021-07-06T17:54:37.314Z"
   },
   {
    "duration": 3,
    "start_time": "2021-07-06T17:57:06.833Z"
   },
   {
    "duration": 1358,
    "start_time": "2021-07-06T17:57:06.838Z"
   },
   {
    "duration": 105,
    "start_time": "2021-07-06T17:57:08.199Z"
   },
   {
    "duration": 18,
    "start_time": "2021-07-06T17:57:08.306Z"
   },
   {
    "duration": 1883,
    "start_time": "2021-07-06T17:57:08.326Z"
   },
   {
    "duration": 2446,
    "start_time": "2021-07-06T17:57:10.211Z"
   },
   {
    "duration": 4081,
    "start_time": "2021-07-06T17:59:08.497Z"
   },
   {
    "duration": 1057,
    "start_time": "2021-07-06T18:24:34.895Z"
   },
   {
    "duration": 96928,
    "start_time": "2021-07-06T18:24:35.954Z"
   },
   {
    "duration": 34,
    "start_time": "2021-07-06T18:26:12.884Z"
   },
   {
    "duration": 6,
    "start_time": "2021-07-06T18:26:12.919Z"
   },
   {
    "duration": 20,
    "start_time": "2021-07-06T18:26:12.927Z"
   },
   {
    "duration": 20,
    "start_time": "2021-07-06T18:26:12.948Z"
   },
   {
    "duration": 42,
    "start_time": "2021-07-06T18:26:12.969Z"
   },
   {
    "duration": 5,
    "start_time": "2021-07-06T18:26:13.013Z"
   },
   {
    "duration": 14,
    "start_time": "2021-07-06T18:26:13.020Z"
   },
   {
    "duration": 6,
    "start_time": "2021-07-06T18:26:13.035Z"
   },
   {
    "duration": 842,
    "start_time": "2021-07-06T18:26:13.042Z"
   },
   {
    "duration": 79,
    "start_time": "2021-07-06T18:26:13.807Z"
   },
   {
    "duration": 78,
    "start_time": "2021-07-06T18:26:13.809Z"
   },
   {
    "duration": 78,
    "start_time": "2021-07-06T18:26:13.811Z"
   },
   {
    "duration": 50,
    "start_time": "2021-07-06T18:26:13.840Z"
   },
   {
    "duration": 49,
    "start_time": "2021-07-06T18:26:13.842Z"
   },
   {
    "duration": 48,
    "start_time": "2021-07-06T18:26:13.844Z"
   },
   {
    "duration": 48,
    "start_time": "2021-07-06T18:26:13.846Z"
   },
   {
    "duration": 46,
    "start_time": "2021-07-06T18:26:13.849Z"
   },
   {
    "duration": 45,
    "start_time": "2021-07-06T18:26:13.851Z"
   },
   {
    "duration": 44,
    "start_time": "2021-07-06T18:26:13.853Z"
   },
   {
    "duration": 42,
    "start_time": "2021-07-06T18:26:13.856Z"
   },
   {
    "duration": 41,
    "start_time": "2021-07-06T18:26:13.858Z"
   },
   {
    "duration": 39,
    "start_time": "2021-07-06T18:26:13.862Z"
   },
   {
    "duration": 37,
    "start_time": "2021-07-06T18:26:13.865Z"
   },
   {
    "duration": 36,
    "start_time": "2021-07-06T18:26:13.868Z"
   },
   {
    "duration": 34,
    "start_time": "2021-07-06T18:26:13.871Z"
   },
   {
    "duration": 31,
    "start_time": "2021-07-06T18:26:13.875Z"
   },
   {
    "duration": 26,
    "start_time": "2021-07-06T18:26:13.881Z"
   },
   {
    "duration": 24,
    "start_time": "2021-07-06T18:26:13.884Z"
   },
   {
    "duration": 24,
    "start_time": "2021-07-06T18:26:13.886Z"
   },
   {
    "duration": 22,
    "start_time": "2021-07-06T18:26:13.889Z"
   },
   {
    "duration": 7,
    "start_time": "2021-07-06T18:38:57.954Z"
   },
   {
    "duration": 1254,
    "start_time": "2021-07-06T18:38:59.453Z"
   },
   {
    "duration": 300,
    "start_time": "2021-07-06T18:39:16.974Z"
   },
   {
    "duration": 830,
    "start_time": "2021-07-06T18:42:00.752Z"
   },
   {
    "duration": 5,
    "start_time": "2021-07-06T18:42:08.779Z"
   },
   {
    "duration": 295,
    "start_time": "2021-07-06T18:42:10.349Z"
   },
   {
    "duration": 754,
    "start_time": "2021-07-06T18:42:16.723Z"
   },
   {
    "duration": 6,
    "start_time": "2021-07-06T18:42:31.192Z"
   },
   {
    "duration": 12036,
    "start_time": "2021-07-06T18:42:32.374Z"
   },
   {
    "duration": 6,
    "start_time": "2021-07-06T18:43:10.897Z"
   },
   {
    "duration": 22026,
    "start_time": "2021-07-06T18:43:11.802Z"
   },
   {
    "duration": 6,
    "start_time": "2021-07-06T18:46:59.991Z"
   },
   {
    "duration": 693,
    "start_time": "2021-07-06T18:47:00.000Z"
   },
   {
    "duration": 5,
    "start_time": "2021-07-06T18:47:30.704Z"
   },
   {
    "duration": 630,
    "start_time": "2021-07-06T18:47:31.505Z"
   },
   {
    "duration": 5,
    "start_time": "2021-07-06T18:47:52.590Z"
   },
   {
    "duration": 5,
    "start_time": "2021-07-06T18:47:58.509Z"
   },
   {
    "duration": 9305,
    "start_time": "2021-07-06T18:47:59.451Z"
   },
   {
    "duration": 4,
    "start_time": "2021-07-06T19:00:21.333Z"
   },
   {
    "duration": 94,
    "start_time": "2021-07-06T19:00:44.913Z"
   },
   {
    "duration": 283,
    "start_time": "2021-07-06T19:01:01.369Z"
   },
   {
    "duration": 624,
    "start_time": "2021-07-06T19:01:08.526Z"
   },
   {
    "duration": 5,
    "start_time": "2021-07-06T19:01:27.460Z"
   },
   {
    "duration": 7656,
    "start_time": "2021-07-06T19:01:28.067Z"
   },
   {
    "duration": 2110,
    "start_time": "2021-07-06T19:02:29.407Z"
   },
   {
    "duration": 2103,
    "start_time": "2021-07-06T19:02:29.415Z"
   },
   {
    "duration": 1682,
    "start_time": "2021-07-06T19:02:43.920Z"
   },
   {
    "duration": 3,
    "start_time": "2021-07-06T19:02:45.604Z"
   },
   {
    "duration": 124,
    "start_time": "2021-07-06T19:02:45.609Z"
   },
   {
    "duration": 10,
    "start_time": "2021-07-06T19:02:45.736Z"
   },
   {
    "duration": 12,
    "start_time": "2021-07-06T19:02:45.749Z"
   },
   {
    "duration": 29,
    "start_time": "2021-07-06T19:02:45.763Z"
   },
   {
    "duration": 71,
    "start_time": "2021-07-06T19:02:45.795Z"
   },
   {
    "duration": 25,
    "start_time": "2021-07-06T19:02:45.870Z"
   },
   {
    "duration": 19,
    "start_time": "2021-07-06T19:02:45.898Z"
   },
   {
    "duration": 6,
    "start_time": "2021-07-06T19:02:45.919Z"
   },
   {
    "duration": 441,
    "start_time": "2021-07-06T19:02:45.927Z"
   },
   {
    "duration": 1986,
    "start_time": "2021-07-06T19:02:44.385Z"
   },
   {
    "duration": 1985,
    "start_time": "2021-07-06T19:02:44.388Z"
   },
   {
    "duration": 1982,
    "start_time": "2021-07-06T19:02:44.392Z"
   },
   {
    "duration": 1980,
    "start_time": "2021-07-06T19:02:44.396Z"
   },
   {
    "duration": 1978,
    "start_time": "2021-07-06T19:02:44.399Z"
   },
   {
    "duration": 1978,
    "start_time": "2021-07-06T19:02:44.401Z"
   },
   {
    "duration": 1974,
    "start_time": "2021-07-06T19:02:44.406Z"
   },
   {
    "duration": 1970,
    "start_time": "2021-07-06T19:02:44.411Z"
   },
   {
    "duration": 1968,
    "start_time": "2021-07-06T19:02:44.414Z"
   },
   {
    "duration": 1967,
    "start_time": "2021-07-06T19:02:44.417Z"
   },
   {
    "duration": 1966,
    "start_time": "2021-07-06T19:02:44.421Z"
   },
   {
    "duration": 1967,
    "start_time": "2021-07-06T19:02:44.423Z"
   },
   {
    "duration": 1963,
    "start_time": "2021-07-06T19:02:44.429Z"
   },
   {
    "duration": 1963,
    "start_time": "2021-07-06T19:02:44.431Z"
   },
   {
    "duration": 1962,
    "start_time": "2021-07-06T19:02:44.434Z"
   },
   {
    "duration": 1961,
    "start_time": "2021-07-06T19:02:44.437Z"
   },
   {
    "duration": 1961,
    "start_time": "2021-07-06T19:02:44.439Z"
   },
   {
    "duration": 1957,
    "start_time": "2021-07-06T19:02:44.444Z"
   },
   {
    "duration": 1956,
    "start_time": "2021-07-06T19:02:44.447Z"
   },
   {
    "duration": 1954,
    "start_time": "2021-07-06T19:02:44.450Z"
   },
   {
    "duration": 1954,
    "start_time": "2021-07-06T19:02:44.452Z"
   },
   {
    "duration": 21522,
    "start_time": "2021-07-06T19:04:33.732Z"
   },
   {
    "duration": 8468,
    "start_time": "2021-07-06T19:16:33.792Z"
   },
   {
    "duration": 1705,
    "start_time": "2021-07-06T19:17:07.140Z"
   },
   {
    "duration": 4,
    "start_time": "2021-07-06T19:17:08.848Z"
   },
   {
    "duration": 60,
    "start_time": "2021-07-06T19:17:08.857Z"
   },
   {
    "duration": 15,
    "start_time": "2021-07-06T19:17:08.920Z"
   },
   {
    "duration": 47,
    "start_time": "2021-07-06T19:17:08.939Z"
   },
   {
    "duration": 26,
    "start_time": "2021-07-06T19:17:08.989Z"
   },
   {
    "duration": 95,
    "start_time": "2021-07-06T19:17:09.017Z"
   },
   {
    "duration": 10,
    "start_time": "2021-07-06T19:17:09.115Z"
   },
   {
    "duration": 21,
    "start_time": "2021-07-06T19:17:09.129Z"
   },
   {
    "duration": 3966,
    "start_time": "2021-07-06T19:17:09.153Z"
   },
   {
    "duration": 6,
    "start_time": "2021-07-06T19:17:13.122Z"
   },
   {
    "duration": 22018,
    "start_time": "2021-07-06T19:17:13.130Z"
   },
   {
    "duration": 8994,
    "start_time": "2021-07-06T19:17:35.151Z"
   },
   {
    "duration": 7,
    "start_time": "2021-07-06T19:17:44.148Z"
   },
   {
    "duration": 2131,
    "start_time": "2021-07-06T19:17:44.157Z"
   },
   {
    "duration": 8,
    "start_time": "2021-07-06T19:17:46.291Z"
   },
   {
    "duration": 21,
    "start_time": "2021-07-06T19:17:46.303Z"
   },
   {
    "duration": 15,
    "start_time": "2021-07-06T19:17:46.327Z"
   },
   {
    "duration": 77,
    "start_time": "2021-07-06T19:17:46.345Z"
   },
   {
    "duration": 64,
    "start_time": "2021-07-06T19:17:46.425Z"
   },
   {
    "duration": 180,
    "start_time": "2021-07-06T19:17:46.492Z"
   },
   {
    "duration": 32,
    "start_time": "2021-07-06T19:17:46.675Z"
   },
   {
    "duration": 520,
    "start_time": "2021-07-06T19:17:46.710Z"
   },
   {
    "duration": 33,
    "start_time": "2021-07-06T19:17:47.233Z"
   },
   {
    "duration": 27,
    "start_time": "2021-07-06T19:17:47.269Z"
   },
   {
    "duration": 11,
    "start_time": "2021-07-06T19:17:47.309Z"
   },
   {
    "duration": 956,
    "start_time": "2021-07-06T19:17:47.325Z"
   },
   {
    "duration": 153512,
    "start_time": "2021-07-06T19:17:48.285Z"
   },
   {
    "duration": 4,
    "start_time": "2021-07-06T19:20:21.800Z"
   },
   {
    "duration": 1491,
    "start_time": "2021-07-06T19:20:21.807Z"
   },
   {
    "duration": 22,
    "start_time": "2021-07-06T19:20:23.385Z"
   },
   {
    "duration": 20,
    "start_time": "2021-07-06T19:20:23.410Z"
   },
   {
    "duration": 2044,
    "start_time": "2021-07-06T19:20:23.433Z"
   },
   {
    "duration": 2356,
    "start_time": "2021-07-06T19:20:25.484Z"
   },
   {
    "duration": 3935,
    "start_time": "2021-07-06T19:22:17.883Z"
   },
   {
    "duration": 4,
    "start_time": "2021-07-06T19:22:44.456Z"
   },
   {
    "duration": 1562,
    "start_time": "2021-07-07T08:09:25.593Z"
   },
   {
    "duration": 4,
    "start_time": "2021-07-07T08:09:27.158Z"
   },
   {
    "duration": 63,
    "start_time": "2021-07-07T08:09:27.167Z"
   },
   {
    "duration": 13,
    "start_time": "2021-07-07T08:09:27.234Z"
   },
   {
    "duration": 23,
    "start_time": "2021-07-07T08:09:27.250Z"
   },
   {
    "duration": 40,
    "start_time": "2021-07-07T08:09:27.276Z"
   },
   {
    "duration": 97,
    "start_time": "2021-07-07T08:09:27.319Z"
   },
   {
    "duration": 10,
    "start_time": "2021-07-07T08:09:27.422Z"
   },
   {
    "duration": 20,
    "start_time": "2021-07-07T08:09:27.435Z"
   },
   {
    "duration": 4933,
    "start_time": "2021-07-07T08:09:27.458Z"
   },
   {
    "duration": 7,
    "start_time": "2021-07-07T08:09:32.394Z"
   },
   {
    "duration": 772,
    "start_time": "2021-07-07T08:09:32.403Z"
   },
   {
    "duration": 2876,
    "start_time": "2021-07-07T08:09:30.302Z"
   },
   {
    "duration": 2874,
    "start_time": "2021-07-07T08:09:30.306Z"
   },
   {
    "duration": 2872,
    "start_time": "2021-07-07T08:09:30.309Z"
   },
   {
    "duration": 2870,
    "start_time": "2021-07-07T08:09:30.313Z"
   },
   {
    "duration": 2867,
    "start_time": "2021-07-07T08:09:30.317Z"
   },
   {
    "duration": 2865,
    "start_time": "2021-07-07T08:09:30.321Z"
   },
   {
    "duration": 2863,
    "start_time": "2021-07-07T08:09:30.324Z"
   },
   {
    "duration": 2861,
    "start_time": "2021-07-07T08:09:30.327Z"
   },
   {
    "duration": 2860,
    "start_time": "2021-07-07T08:09:30.330Z"
   },
   {
    "duration": 2856,
    "start_time": "2021-07-07T08:09:30.335Z"
   },
   {
    "duration": 2855,
    "start_time": "2021-07-07T08:09:30.337Z"
   },
   {
    "duration": 2853,
    "start_time": "2021-07-07T08:09:30.341Z"
   },
   {
    "duration": 2851,
    "start_time": "2021-07-07T08:09:30.344Z"
   },
   {
    "duration": 2833,
    "start_time": "2021-07-07T08:09:30.364Z"
   },
   {
    "duration": 2830,
    "start_time": "2021-07-07T08:09:30.368Z"
   },
   {
    "duration": 2827,
    "start_time": "2021-07-07T08:09:30.372Z"
   },
   {
    "duration": 2824,
    "start_time": "2021-07-07T08:09:30.376Z"
   },
   {
    "duration": 2822,
    "start_time": "2021-07-07T08:09:30.380Z"
   },
   {
    "duration": 2818,
    "start_time": "2021-07-07T08:09:30.385Z"
   },
   {
    "duration": 2815,
    "start_time": "2021-07-07T08:09:30.389Z"
   },
   {
    "duration": 2813,
    "start_time": "2021-07-07T08:09:30.393Z"
   },
   {
    "duration": 2811,
    "start_time": "2021-07-07T08:09:30.396Z"
   },
   {
    "duration": 2806,
    "start_time": "2021-07-07T08:09:30.402Z"
   },
   {
    "duration": 530,
    "start_time": "2021-07-07T08:14:59.057Z"
   },
   {
    "duration": 288,
    "start_time": "2021-07-07T08:15:06.838Z"
   },
   {
    "duration": 7,
    "start_time": "2021-07-07T08:15:41.385Z"
   },
   {
    "duration": 3,
    "start_time": "2021-07-07T08:15:42.449Z"
   },
   {
    "duration": 40,
    "start_time": "2021-07-07T08:15:43.613Z"
   },
   {
    "duration": 11,
    "start_time": "2021-07-07T08:15:44.515Z"
   },
   {
    "duration": 13,
    "start_time": "2021-07-07T08:15:45.408Z"
   },
   {
    "duration": 14,
    "start_time": "2021-07-07T08:15:46.115Z"
   },
   {
    "duration": 74,
    "start_time": "2021-07-07T08:15:58.104Z"
   },
   {
    "duration": 9,
    "start_time": "2021-07-07T08:16:01.762Z"
   },
   {
    "duration": 20,
    "start_time": "2021-07-07T08:16:02.836Z"
   },
   {
    "duration": 3381,
    "start_time": "2021-07-07T08:16:06.295Z"
   },
   {
    "duration": 6,
    "start_time": "2021-07-07T08:16:13.569Z"
   },
   {
    "duration": 582,
    "start_time": "2021-07-07T08:16:15.545Z"
   },
   {
    "duration": 7971,
    "start_time": "2021-07-07T08:16:31.005Z"
   },
   {
    "duration": 7,
    "start_time": "2021-07-07T08:17:43.277Z"
   },
   {
    "duration": 1981,
    "start_time": "2021-07-07T08:17:44.293Z"
   },
   {
    "duration": 5,
    "start_time": "2021-07-07T08:17:52.371Z"
   },
   {
    "duration": 8,
    "start_time": "2021-07-07T08:17:53.411Z"
   },
   {
    "duration": 4,
    "start_time": "2021-07-07T08:17:56.487Z"
   },
   {
    "duration": 57,
    "start_time": "2021-07-07T08:17:57.334Z"
   },
   {
    "duration": 14,
    "start_time": "2021-07-07T08:18:04.934Z"
   },
   {
    "duration": 12,
    "start_time": "2021-07-07T08:18:07.488Z"
   },
   {
    "duration": 5,
    "start_time": "2021-07-07T08:18:44.642Z"
   },
   {
    "duration": 454,
    "start_time": "2021-07-07T08:18:45.501Z"
   },
   {
    "duration": 32,
    "start_time": "2021-07-07T08:18:46.098Z"
   },
   {
    "duration": 12,
    "start_time": "2021-07-07T08:18:49.631Z"
   },
   {
    "duration": 8,
    "start_time": "2021-07-07T08:18:54.578Z"
   },
   {
    "duration": 778,
    "start_time": "2021-07-07T08:18:55.449Z"
   },
   {
    "duration": 161709,
    "start_time": "2021-07-07T08:18:56.238Z"
   },
   {
    "duration": 4,
    "start_time": "2021-07-07T08:21:44.717Z"
   },
   {
    "duration": 1834,
    "start_time": "2021-07-07T08:21:47.570Z"
   },
   {
    "duration": 27,
    "start_time": "2021-07-07T08:21:50.879Z"
   },
   {
    "duration": 18,
    "start_time": "2021-07-07T08:21:56.407Z"
   },
   {
    "duration": 19,
    "start_time": "2021-07-07T08:22:24.062Z"
   },
   {
    "duration": 1631,
    "start_time": "2021-07-07T08:22:24.988Z"
   },
   {
    "duration": 1915,
    "start_time": "2021-07-07T08:22:26.622Z"
   }
  ],
  "kernelspec": {
   "display_name": "Python 3",
   "language": "python",
   "name": "python3"
  },
  "language_info": {
   "codemirror_mode": {
    "name": "ipython",
    "version": 3
   },
   "file_extension": ".py",
   "mimetype": "text/x-python",
   "name": "python",
   "nbconvert_exporter": "python",
   "pygments_lexer": "ipython3",
   "version": "3.7.6"
  },
  "toc": {
   "base_numbering": 1,
   "nav_menu": {},
   "number_sections": true,
   "sideBar": true,
   "skip_h1_title": true,
   "title_cell": "Table of Contents",
   "title_sidebar": "Contents",
   "toc_cell": true,
   "toc_position": {},
   "toc_section_display": true,
   "toc_window_display": false
  }
 },
 "nbformat": 4,
 "nbformat_minor": 2
}
